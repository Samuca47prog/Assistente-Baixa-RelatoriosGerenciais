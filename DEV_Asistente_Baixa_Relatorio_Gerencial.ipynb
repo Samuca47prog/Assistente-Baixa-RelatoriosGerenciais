{
  "nbformat": 4,
  "nbformat_minor": 0,
  "metadata": {
    "colab": {
      "provenance": [],
      "mount_file_id": "1zvAXkasQPozpgLgp0tVHZb7SudKKsEAk",
      "authorship_tag": "ABX9TyMQJirrSZ1tZUMIgcbqBBZo",
      "include_colab_link": true
    },
    "kernelspec": {
      "name": "python3",
      "display_name": "Python 3"
    },
    "language_info": {
      "name": "python"
    }
  },
  "cells": [
    {
      "cell_type": "markdown",
      "metadata": {
        "id": "view-in-github",
        "colab_type": "text"
      },
      "source": [
        "<a href=\"https://colab.research.google.com/github/Samuca47prog/Assistente-Baixa-RelatoriosGerenciais/blob/main/DEV_Asistente_Baixa_Relatorio_Gerencial.ipynb\" target=\"_parent\"><img src=\"https://colab.research.google.com/assets/colab-badge.svg\" alt=\"Open In Colab\"/></a>"
      ]
    },
    {
      "cell_type": "markdown",
      "source": [
        "Monta o Drive"
      ],
      "metadata": {
        "id": "mq54bVw4l73A"
      }
    },
    {
      "cell_type": "code",
      "source": [
        "from google.colab import drive\n",
        "drive.mount(\"/content/drive\")"
      ],
      "metadata": {
        "id": "3ta9crP6l-HO",
        "colab": {
          "base_uri": "https://localhost:8080/"
        },
        "outputId": "7eb7a449-5734-4120-9d58-6939b199d11e"
      },
      "execution_count": 8,
      "outputs": [
        {
          "output_type": "stream",
          "name": "stdout",
          "text": [
            "Drive already mounted at /content/drive; to attempt to forcibly remount, call drive.mount(\"/content/drive\", force_remount=True).\n"
          ]
        }
      ]
    },
    {
      "cell_type": "markdown",
      "source": [
        "## Variáveis globais"
      ],
      "metadata": {
        "id": "DqkZg5OAmMU1"
      }
    },
    {
      "cell_type": "code",
      "source": [
        "caminho_drive_relatorios = \"/content/drive/MyDrive/Financeiro/Investimentos/Relatorios\\ Gerenciais\\ para\\ Ler\""
      ],
      "metadata": {
        "id": "3PSovyCLmO1T"
      },
      "execution_count": 9,
      "outputs": []
    },
    {
      "cell_type": "code",
      "source": [
        "url_xpmalls = \"https://xpmalls.riweb.com.br/\"\n",
        "url = \"https://xpmalls.riweb.com.br/list.aspx?idCanal=kvNzmBoSOV6K7Q9BieMORw==\""
      ],
      "metadata": {
        "id": "LnEwe8_ajxMI"
      },
      "execution_count": 10,
      "outputs": []
    },
    {
      "cell_type": "markdown",
      "source": [
        "### Criando a pasta onde os arquivos serão armazenados"
      ],
      "metadata": {
        "id": "z1WOu3apoYSf"
      }
    },
    {
      "cell_type": "code",
      "source": [
        "# importing the libraries\n",
        "from bs4 import BeautifulSoup\n",
        "import requests\n",
        "import re\n",
        "import pandas as pd\n",
        "import numpy as np\n",
        "import os"
      ],
      "metadata": {
        "id": "KYdaziiujr7a"
      },
      "execution_count": 11,
      "outputs": []
    },
    {
      "cell_type": "code",
      "source": [
        "colabPath_relatorios = \"/content/relatorios/\"\n",
        "\n",
        "if not os.path.exists(colabPath_relatorios):\n",
        "    os.makedirs(colabPath_relatorios)"
      ],
      "metadata": {
        "id": "6dJ1tAdwodYJ"
      },
      "execution_count": 12,
      "outputs": []
    },
    {
      "cell_type": "markdown",
      "source": [
        "## Baixando o relatório gerencial do XPML11"
      ],
      "metadata": {
        "id": "898Vs-1yjZ7T"
      }
    },
    {
      "cell_type": "code",
      "execution_count": 13,
      "metadata": {
        "id": "SjGz1PhhiCw0"
      },
      "outputs": [],
      "source": [
        "def capturaHTMLdaPagina(url):\n",
        "    html_content = requests.get(url).text\n",
        "    soup = BeautifulSoup(html_content, \"html.parser\")\n",
        "\n",
        "    return soup\n",
        "\n",
        "\n",
        "def geraNomeDoPDF(nome_tarefa):\n",
        "    file_name = nome_tarefa.replace(\"#\", \"\") + \".pdf\"\n",
        "\n",
        "    return file_name\n",
        "\n",
        "\n",
        "def baixarPDFporURL(pdf_url, file_name):\n",
        "    file_name = colabPath_relatorios + file_name\n",
        "    response = requests.get(pdf_url)\n",
        "\n",
        "    if response.status_code == 200:\n",
        "        with open(file_name, 'wb') as f:\n",
        "            f.write(response.content)\n",
        "        print(f'Successfully downloaded {file_name}.')\n",
        "    else:\n",
        "        print('Failed to download the PDF.')"
      ]
    },
    {
      "cell_type": "markdown",
      "source": [
        "### Encontrando o link no html"
      ],
      "metadata": {
        "id": "5NBfOI-ElRxa"
      }
    },
    {
      "cell_type": "code",
      "source": [
        "soup = capturaHTMLdaPagina(url)"
      ],
      "metadata": {
        "id": "GE-B3m7OoRCc"
      },
      "execution_count": 14,
      "outputs": []
    },
    {
      "cell_type": "code",
      "source": [
        "soup"
      ],
      "metadata": {
        "id": "o8uCqS5MjxQb",
        "colab": {
          "base_uri": "https://localhost:8080/"
        },
        "outputId": "a085bd20-f35f-408d-c8ca-dba640bdbea0"
      },
      "execution_count": 15,
      "outputs": [
        {
          "output_type": "execute_result",
          "data": {
            "text/plain": [
              "\n",
              "<!DOCTYPE html>\n",
              "\n",
              "<!--[if lt IE 7]>      <html class=\"no-js lt-ie9 lt-ie8 lt-ie7\"> <![endif]-->\n",
              "<!--[if IE 7]>         <html class=\"no-js lt-ie9 lt-ie8\"> <![endif]-->\n",
              "<!--[if IE 8]>         <html class=\"no-js lt-ie9\"> <![endif]-->\n",
              "<!--[if gt IE 8]><!-->\n",
              "<html class=\"no-js\" lang=\"pt-br\">\n",
              "<!--<![endif]-->\n",
              "<head><meta charset=\"utf-8\"/><title>\n",
              "\tXP Malls FII  | Relações com Investidores - Relatórios Mensais de Resultado\n",
              "</title><meta content=\"IE=edge\" http-equiv=\"X-UA-Compatible\"/><meta content=\"XP Gestão de Recursos\" name=\"keywords\"/><meta content=\"Fundo de Investimento Imobiliário com gestão ativa focado na exploração de Shopping Centers no Brasil.\" name=\"description\"/><meta content=\"width=device-width, initial-scale=1\" name=\"viewport\"/><meta content=\"#123456\" name=\"msapplication-TileColor\"/><meta content=\"square.png\" name=\"msapplication-square150x150logo\"/>\n",
              "<!-- Le styles -->\n",
              "<link href=\"css/bootstrap.css\" rel=\"stylesheet\" type=\"text/css\"/><link href=\"css/fonts.css\" rel=\"stylesheet\"/><link href=\"css/layerslider.css\" rel=\"stylesheet\"/><link href=\"css/owl.carousel.css\" rel=\"stylesheet\" type=\"text/css\"/><link href=\"css/style.css\" rel=\"stylesheet\"/><link href=\"https://fonts.googleapis.com/css?family=Roboto+Slab:100,300,400,700|Roboto:100,300,400\" rel=\"stylesheet\"/><link href=\"img/favicon-32.png\" rel=\"shortcut icon\"/>\n",
              "<!-- HTML5 shim and Respond.js for IE8 support of HTML5 elements and media queries -->\n",
              "<!--[if lt IE 9]>\n",
              "              <script src=\"js/html5shiv.js\"></script>\n",
              "              <script src=\"js/respond.min.js\"></script>\n",
              "            <![endif]-->\n",
              "<script src=\"js/jquery.js\"></script>\n",
              "<script src=\"js/MenuTopo.js\" type=\"text/javascript\"></script>\n",
              "<script src=\"js/List.js\" type=\"text/javascript\"></script>\n",
              "</head>\n",
              "<body>\n",
              "<form action=\"#\" id=\"Form1\" method=\"post\">\n",
              "<input id=\"__VIEWSTATE\" name=\"__VIEWSTATE\" type=\"hidden\" value=\"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\"/>\n",
              "<script type=\"text/javascript\">\n",
              "//<![CDATA[\n",
              "function CallServer(arg, context) {WebForm_DoCallback('__Page',arg,retornoCallback,\"\",erroCallback,true); }//]]>\n",
              "</script>\n",
              "<script type=\"text/javascript\">\n",
              "$(document).ready(function(event){\n",
              "\t$('input[id=txtNomeFavorito]').keypress(function (event) {\n",
              "\tvar e = event || window.event;\n",
              "\tif (e.keyCode == '13') {\n",
              "\tClickOkNomeMarcarFavorito();\n",
              "\tevent.preventDefault();\n",
              "\t}\n",
              "\t});\n",
              "\t});\n",
              "\n",
              "var valCookieMeusFavoritos = ''; var valCookieMeusFavoritosDomain = ''; \n",
              "\n",
              "function NomeMarcarFavorito(){\n",
              "\tvalCookieMeusFavoritos = '';\n",
              "\tvar cookieMeusFavoritos = '';\n",
              "\tvar indexCookieMeusFavoritos = document.cookie.indexOf('MeusFavoritos=');\n",
              "\tif (indexCookieMeusFavoritos > -1){\n",
              "\tcookieMeusFavoritos = document.cookie.slice( indexCookieMeusFavoritos );\n",
              "\tvar indexSemicolon = cookieMeusFavoritos.indexOf(';');\n",
              "\tcookieMeusFavoritos = cookieMeusFavoritos.slice( 0, indexSemicolon > -1 ? indexSemicolon : cookieMeusFavoritos.length );\n",
              "\tif (cookieMeusFavoritos.indexOf(escape(location.href)) > -1){\n",
              "\t\talert('Este favorito já existe');\n",
              "\t\treturn;\n",
              "\t\t}\n",
              "\t}\n",
              "\tvalCookieMeusFavoritos = cookieMeusFavoritos.length == 0 ? '' : cookieMeusFavoritos.slice('MeusFavoritos='.length);\n",
              "\tAbrirBoxNomeMarcarFavorito();\n",
              "}\n",
              "\n",
              "function AbrirBoxNomeMarcarFavorito(){\n",
              "\t$('div[id=FundoOverlayMarcarFavorito]').show();$('div[id=divCaixaNomeMarcarFavorito]').show();\n",
              "$('input[id=txtNomeFavorito]').focus();\n",
              "}\n",
              "\n",
              "function FecharBoxNomeMarcarFavorito(){\n",
              "\t$('div[id=divCaixaNomeMarcarFavorito]').hide();\n",
              "\t$('div[id=FundoOverlayMarcarFavorito]').hide();\n",
              "}\n",
              "\n",
              "var cancelarMarcarFavorito = false;\n",
              "\n",
              "function ClickOkNomeMarcarFavorito(){\n",
              "\t\n",
              "\tif (!cancelarMarcarFavorito){\n",
              "\t\tvar exdate = new Date();\n",
              "\texdate.setDate(exdate.getDate() + 365);\n",
              "\tvalCookieMeusFavoritosDomain = escape(location.hostname);\n",
              "\tvalCookieMeusFavoritos = escape(location.href) +'='+ escape($('input[id=txtNomeFavorito]').val())\n",
              "\t+ (valCookieMeusFavoritos.length > 0 ? '&' : '') + valCookieMeusFavoritos;\n",
              "\t\tdocument.cookie = 'MeusFavoritos=' + valCookieMeusFavoritos +';expires=' + exdate.toUTCString() +';path=/;'\n",
              "\t}\n",
              "\tFecharBoxNomeMarcarFavorito();\n",
              "\tAfterMarcarFavorito();\n",
              "}\n",
              "</script>\n",
              "<style type=\"text/css\">\n",
              ".overlayMarcarFavorito{background: #000;position:fixed;_position: absolute;left: 0; top: 0;width: 100%; height: 100%;opacity: .70;filter:alpha(opacity=70);z-index: 9999;cursor:pointer;}\n",
              "</style>\n",
              "<script type=\"text/javascript\">\n",
              "//<![CDATA[\n",
              "var urlsMeusFavoritos = [];\n",
              "\n",
              "$(document).ready(function () {\n",
              "\turlsMeusFavoritos = urlsMeusFavoritos;\n",
              "});\n",
              "\n",
              "function setCookieFavorito(c_name, value, expiredays) {\n",
              "\tvar exdate = new Date();\n",
              "\texdate.setDate(exdate.getDate() + expiredays);\n",
              "\tdocument.cookie = c_name + '=' + value + \n",
              "\t((expiredays == null) ? '' : ';expires=' + exdate.toUTCString());\n",
              "}\n",
              "\n",
              "function ExcluirMeusFavoritos(urlFavorito, node) {\n",
              "\tif (urlsMeusFavoritos != null && urlsMeusFavoritos != 'undefined') {\n",
              "\t\tvar urlsMeusFavoritosLen = urlsMeusFavoritos.length;\n",
              "\t\turlsMeusFavoritosLen = urlsMeusFavoritosLen > 1000 ? 1000: urlsMeusFavoritosLen;\n",
              "\t\tfor (var i = 0; i < urlsMeusFavoritosLen; i++) {\n",
              "\t\t\tif (urlsMeusFavoritos[i].slice(0, urlsMeusFavoritos[i].indexOf('=')) == escape(urlFavorito)) {\n",
              "\t\t\turlsMeusFavoritos.splice(i, 1);\n",
              "\t\t\t$(node).hide();\n",
              "\t\t\t//formato compativel com leitura de cookie para asp.net\n",
              "\t\t\tsetCookieFavorito('MeusFavoritos', urlsMeusFavoritos.join('@@').replace(/@@/g,'&'), 365);\n",
              "\t\t\tbreak;\n",
              "\t\t\t\n",
              "\t\t\t\n",
              "\t\t\t}\n",
              "\t\t}\n",
              "\t\tif (urlsMeusFavoritos.length == 0) {\n",
              "\t\t\t$('span[id$=lblTextoSemFavoritosInnerHtml]').show();\n",
              "\t\t}\n",
              "\t}\n",
              "\tAfterExcluirFavorito();\n",
              "}\n",
              "function AdicionarMeuFavorito(urlFavorito, nome) {\n",
              "\tvar favoritosLI = $('div.modal-body ul.listFavoritos li');\n",
              "\tvar novoItemLI = $('<li><span class=\"posicaoBtnxHome\"><a href=\"javascript:void(0)\" class=\"btnX\" onclick=\"ExcluirMeusFavoritos(&#39;@\\/=&#39;, this.parentNode.parentNode);\"><img id=\"imgExcluirMeuFavorito\" src=\"../img/ico_x_home.png\" /></a></span><span class=\"posicaoLinkHome\"><a href=\"@\\/=\">=\\/@</a></span></li>'.replace(/@\\/=/g, urlFavorito).replace(/=\\/@/, nome));\n",
              "\tif (favoritosLI.length == 0) {\n",
              "\t\t$('div.modal-body ul.listFavoritos').append(novoItemLI);\n",
              "\t$('span[id$=lblTextoSemFavoritosInnerHtml]').hide();\n",
              "\t}\n",
              "\telse {\n",
              "\t\tif (favoritosLI.length >= 1000) {\n",
              "\t\t\tfavoritosLI.slice(999,1000).hide();\n",
              "\t\t\turlsMeusFavoritos.splice(999,1);\n",
              "\t\t}\n",
              "\t\tfavoritosLI.slice(0,1).before(novoItemLI);\n",
              "\t}\n",
              "\n",
              "\turlsMeusFavoritos.unshift(escape(urlFavorito)+'='+escape(nome));\n",
              "\t}\n",
              "//]]>\n",
              "</script>\n",
              "<input id=\"__VIEWSTATEGENERATOR\" name=\"__VIEWSTATEGENERATOR\" type=\"hidden\" value=\"AB3BDE6C\"/>\n",
              "<input id=\"__EVENTVALIDATION\" name=\"__EVENTVALIDATION\" type=\"hidden\" value=\"rjMXkW0UrNzE8J0rCkRguq6GRidAidnU8PilcJ0+J/eXYTvOyOrlCLKcWpUFtGcJq4JG2FqlNrBW0SupLKCD1r7469Fy+JJV3AjYs3yQXKXfN06bxxXUIjrB1uOuvkvYI4y6Wy+VoqZGnk9ZqefwHVz9jyWrcJcylD5gMwqnK5wB2Zgyj8+diKRYPqS9mc1CsXXqCN3HOzNTosFHePnhDCSksK2Kzx5Cop9/zN2KqgwLnTahvSimbn1gT+ugrDfm68aNNqXsEbh8/R+lI7mmeiJ2+rYhQKx4mH1h7I2evXtzpA205xto0aEXUvXp/1CnzcDlGjElsGU9KSSJHi86eSgeupZ2OqqZfSVf9SuOvPe5J7R7YWghYnQrc+uDFzHmubMDZw==\"/>\n",
              "<div class=\"modal-backdrop fade in\" id=\"fadeModal\" style=\"display: none\"></div>\n",
              "<!--MODAL TELA INTEIRA-->\n",
              "<div class=\"alerta\" style=\"display: none\">\n",
              "<div class=\"container\">\n",
              "</div>\n",
              "</div>\n",
              "<header>\n",
              "<div class=\"wrapper-style2\">\n",
              "<div class=\"container container-full d-flex container-xpasset\">\n",
              "<a href=\"https://www.xpasset.com.br\" target=\"blank\">XP Asset Management\n",
              "                    </a>\n",
              "<ul class=\"list-inline ml-auto pr-3 d-flex align-items-center\" style=\"margin-bottom: 3px;\">\n",
              "<li class=\"list-inline-item\">\n",
              "<a data-target=\"#alertasModal\" data-toggle=\"modal\" href=\"javascript:void(0);\" onclick=\"abreBoxMailing()\">\n",
              "<span>Cadastre-se no Mailing</span>\n",
              "</a>\n",
              "</li>\n",
              "<li class=\"list-inline-item\">\n",
              "<a href=\"https://www.linkedin.com/company/xpasset\" target=\"blank\" title=\"LinkedIn\">\n",
              "<img src=\"img/linkedin.png\"/>\n",
              "</a>\n",
              "</li>\n",
              "<li class=\"list-inline-item\">\n",
              "<a href=\"http://t.me/XP_Asset\" target=\"blank\" title=\"Telegram\">\n",
              "<img src=\"img/telegram.png\"/>\n",
              "</a>\n",
              "</li>\n",
              "<li class=\"list-inline-item\">\n",
              "<a href=\"https://www.youtube.com/channel/UC-jNfX6MhcLLfMATynctQBQ\" target=\"blank\" title=\"Youtube\">\n",
              "<span class=\"fa fa-youtube-play\"></span>\n",
              "</a>\n",
              "</li>\n",
              "<li class=\"list-inline-item\">\n",
              "<a accesskey=\"8\" href=\"javascript:__doPostBack('ctl00$ctl00$hlkCulturaEnUS','')\" id=\"hlkCulturaEnUS\">\n",
              "<span class=\"icon-en hidden-xs hidden-sm\"></span>\n",
              "<span class=\"hidden-md hidden-lg\">EN</span>\n",
              "</a>\n",
              "</li>\n",
              "</ul>\n",
              "</div>\n",
              "</div>\n",
              "<div class=\"wrapper-style3\">\n",
              "<nav class=\"navbar navbar-expand-lg navbar-light\">\n",
              "<div class=\"container container-full\">\n",
              "<a class=\"navbar-brand d-flex align-items-end\" href=\"./Default.aspx\">\n",
              "<h1>\n",
              "                                XP MALLS - Fundo de Investimentos\n",
              "                            </h1>\n",
              "<img alt=\"logo XP Gestão de Recursos\" height=\"51\" src=\"img/logo-xp-gestao_preto.png\" width=\"160\"/>\n",
              "<div class=\"separator\"></div>\n",
              "<div>\n",
              "<span>XP MALLS</span><span>Fundo de Investimento Imobiliário</span><span>XPML11</span>\n",
              "</div>\n",
              "</a>\n",
              "<button aria-controls=\"menu\" aria-expanded=\"false\" aria-label=\"Toggle navigation\" class=\"navbar-toggler collapsed\" data-target=\"#menu\" data-toggle=\"collapse\" type=\"button\">\n",
              "<span class=\"navbar-toggler-icon\"></span>\n",
              "</button>\n",
              "<div class=\"collapse navbar-collapse pr-3\" id=\"menu\">\n",
              "<div class=\"form-inline form-search order-1 order-md-2 dropdown\">\n",
              "<a aria-expanded=\"false\" aria-haspopup=\"true\" class=\"d-none d-md-block d-xl-block\" data-toggle=\"dropdown\" href=\"#\" id=\"dropdownbusca\"><span class=\"fa fa-search\"></span></a>\n",
              "<ul aria-labelledby=\"dropdownbusca\" class=\"dropdown-menu dropdown-menu-right visible-xs\">\n",
              "<li>\n",
              "<div class=\"input-group\">\n",
              "<span class=\"input-group-btn\">\n",
              "<a class=\"btn\" href=\"#\"><span class=\"fa fa-search\"></span></a>\n",
              "</span>\n",
              "<input class=\"form-control inputBusca\" placeholder=\"Faça sua busca aqui \" type=\"text\"/>\n",
              "</div>\n",
              "</li>\n",
              "</ul>\n",
              "</div>\n",
              "<ul class=\"navbar-nav ml-md-auto order-2 order-md-1\" id=\"navbarNavDropdown\">\n",
              "<li class=\"nav-item dropdown\"><a aria-expanded=\"false\" aria-haspopup=\"true\" class=\"nav-link\" data-toggle=\"dropdown\" href=\"javascript:void(0);\" id=\"dropdown01\" target=\"_self\">O Fundo</a><div aria-labelledby=\"dropdown01\" class=\"dropdown-menu\"><a class=\"dropdown-item\" href=\"https://xpmalls.riweb.com.br/show.aspx?idCanal=hF0Hq3OZbPRikHv2PNwxVg==\" target=\"_self\">Perfil e Características do Fundo</a><a class=\"dropdown-item\" href=\"https://xpmalls.riweb.com.br/show.aspx?idCanal=AZ5u4L9+Xh/hl89m+9K6zw==\" target=\"_self\">Processo de Investimento</a><a class=\"dropdown-item\" href=\"https://xpmalls.riweb.com.br/show.aspx?idCanal=hi+3ubu3A7zA85JQLhY9hw==\" target=\"_self\">Vantagens Competitivas</a><a class=\"dropdown-item\" href=\"https://xpmalls.riweb.com.br/show.aspx?idCanal=YkNR8TsTBrH+xwlvw1NlNg==\" target=\"_self\">Mercado de Shopping Centers</a><a class=\"dropdown-item\" href=\"https://xpmalls.riweb.com.br/show.aspx?idCanal=VEeWYIAVIlqvtJJVlx7HJg==\" target=\"_self\">Portfólio do Fundo</a><a class=\"dropdown-item\" href=\"https://xpmalls.riweb.com.br/show.aspx?idCanal=mgdDiDXzLtV4UfKtLCZ+TQ==\" target=\"_self\">Gestor</a><a class=\"dropdown-item\" href=\"https://xpmalls.riweb.com.br/show.aspx?idCanal=gTtkWBF3nQ6JrqgBu1Cm7Q==\" target=\"_self\">Administrador</a><a class=\"dropdown-item\" href=\"https://xpmalls.riweb.com.br/list.aspx?idCanal=YLOLCxTrGzyED0si7/oaBA==\" target=\"_self\">Apresentação Institucional</a></div></li><li class=\"nav-item dropdown\"><a aria-expanded=\"false\" aria-haspopup=\"true\" class=\"nav-link\" data-toggle=\"dropdown\" href=\"javascript:void(0);\" id=\"dropdown02\" target=\"_self\">Governança</a><div aria-labelledby=\"dropdown02\" class=\"dropdown-menu\"><a class=\"dropdown-item\" href=\"https://xpmalls.riweb.com.br/list.aspx?idCanal=YHE0Ai6+gXIAfOt65X9i5Q==\" target=\"_self\">Assembleias</a><a class=\"dropdown-item\" href=\"https://xpmalls.riweb.com.br/list.aspx?idCanal=uCwXIvlOOkVV6v6kd/HlHQ==\" target=\"_self\">Demonstrações Financeiras</a><a class=\"dropdown-item\" href=\"https://xpmalls.riweb.com.br/list.aspx?idCanal=hS7ipDwHKsVpmIBPccAkfw==\" target=\"_self\">Regulamento do Fundo</a><a class=\"dropdown-item\" href=\"https://xpmalls.riweb.com.br/listgroup.aspx?idCanal=jdhZtwS7HRasqWFJ79LVFA==\" target=\"_self\">Emissões de Cotas</a></div></li><li class=\"nav-item dropdown\"><a aria-expanded=\"false\" aria-haspopup=\"true\" class=\"nav-link\" data-toggle=\"dropdown\" href=\"javascript:void(0);\" id=\"dropdown03\" target=\"_self\">Informações aos Investidores</a><div aria-labelledby=\"dropdown03\" class=\"dropdown-menu\"><a class=\"dropdown-item\" href=\"https://xpmalls.riweb.com.br/list.aspx?idCanal=EpfwKE0mUZq5yloqymUsNA==\" target=\"_self\">Comunicados ao Mercado</a><a class=\"dropdown-item\" href=\"https://xpmalls.riweb.com.br/list.aspx?idCanal=COzjE/7BYpL+Ii82umKIoQ==\" target=\"_self\">Fatos Relevantes</a><a class=\"dropdown-item\" href=\"https://xpmalls.riweb.com.br/show.aspx?idCanal=1ecQvRWrEFcd6G2SfFVKbQ==\" target=\"_self\">Cobertura de Analistas</a></div></li><li class=\"nav-item dropdown\"><a aria-expanded=\"false\" aria-haspopup=\"true\" class=\"nav-link\" data-toggle=\"dropdown\" href=\"javascript:void(0);\" id=\"dropdown04\" target=\"_self\">Resultados</a><div aria-labelledby=\"dropdown04\" class=\"dropdown-menu\"><a class=\"dropdown-item\" href=\"https://xpmalls.riweb.com.br/list.aspx?idCanal=kvNzmBoSOV6K7Q9BieMORw==\" target=\"_self\">Relatórios Mensais de Resultado</a><a class=\"dropdown-item\" href=\"https://xpmalls.riweb.com.br/list.aspx?idCanal=Y8EcxQ1BImq8OQdGrFVZPQ==\" target=\"_self\">Relatórios Trimestrais de Resultado</a><a class=\"dropdown-item\" href=\"https://xpmalls.riweb.com.br/list.aspx?idCanal=j6tXKCoj9UYAzg9yQJf/TA==\" target=\"_self\">Informes Trimestrais</a><a class=\"dropdown-item\" href=\"https://xpmalls.riweb.com.br/list.aspx?idCanal=cLTm/YGK4HJABcveAhibtg==\" target=\"_self\">Informes Anuais</a><a class=\"dropdown-item\" href=\"https://xpmalls.riweb.com.br/list.aspx?idCanal=9aEfHhsc21L91yOiHkSn4Q==\" target=\"_self\">Apresentações de Resultados e Webcasts</a><a class=\"dropdown-item\" href=\"https://xpmalls.riweb.com.br/list.aspx?idCanal=FSQfzXQ4rkTdqecwg04shA==\" target=\"_self\">Planilha de Fundamentos</a><a class=\"dropdown-item\" href=\"https://xpmalls.riweb.com.br/list.aspx?idCanal=jMmAvIqKKrIQ6BQUoR3LhA==\" target=\"_self\">Comunicados de Rendimentos</a><a class=\"dropdown-item\" href=\"https://xpmalls.riweb.com.br/list.aspx?idCanal=uGZMBrmyP138x8M28zJn1g==\" target=\"_self\">Relatório de Sustentabilidade</a></div></li><li class=\"nav-item dropdown\"><a aria-expanded=\"false\" aria-haspopup=\"true\" class=\"nav-link\" data-toggle=\"dropdown\" href=\"javascript:void(0);\" id=\"dropdown05\" target=\"_self\">Contato</a><div aria-labelledby=\"dropdown05\" class=\"dropdown-menu\"><a class=\"dropdown-item\" href=\"https://xpmalls.riweb.com.br/fale_conosco.aspx?idCanal=TvZe1of9aEPNg5NI2lkVaQ==\" target=\"_self\">Fale com RI</a><a class=\"dropdown-item\" href=\"javascript:abreBoxMailingMenu()\" target=\"_self\">Cadastre-se no Mailing</a></div></li><li class=\"nav-item dropdown\"><a aria-expanded=\"false\" aria-haspopup=\"true\" class=\"nav-link\" data-toggle=\"dropdown\" href=\"javascript:void(0);\" id=\"dropdown06\" target=\"_self\">Outras Informações</a><div aria-labelledby=\"dropdown06\" class=\"dropdown-menu\"><a class=\"dropdown-item\" href=\"https://xpmalls.riweb.com.br/show.aspx?idCanal=AeQadnCLN54Pzuj4k+wC0Q==\" target=\"_self\">Cotações e Gráficos</a><a class=\"dropdown-item\" href=\"https://xpmalls.riweb.com.br/show.aspx?idCanal=DI4kkyqhGTwRCHlMX04w2w==\" target=\"_self\">Glossário</a><a class=\"dropdown-item\" href=\"https://xpmalls.riweb.com.br/show.aspx?idCanal=uELzBsC8JwGIowjDSZ2F1g==\" target=\"_self\">Características de um Fundo Imobiliário</a><a class=\"dropdown-item\" href=\"https://xpmalls.riweb.com.br/show.aspx?idCanal=1isrtYFVn0YNH85tcDvx6g==\" target=\"_self\">Principais Fatores de Risco</a><a class=\"dropdown-item\" href=\"https://xpmalls.riweb.com.br/show.aspx?idCanal=9XrepI0RPC8rs3+gciLUGg==\" target=\"_self\">Política de Privacidade</a></div></li>\n",
              "</ul>\n",
              "</div>\n",
              "</div>\n",
              "</nav>\n",
              "</div>\n",
              "</header>\n",
              "<script src=\"js/FavoritosCanais.js\" type=\"text/javascript\"></script>\n",
              "<script src=\"js/cookies.js\" type=\"text/javascript\"></script>\n",
              "<div class=\"modal fade show\" id=\"ContentInternal_FavoritosCanais_conteudoCanaisFavoritos\">\n",
              "<div class=\"modal-dialog\">\n",
              "<div class=\"modal-content\">\n",
              "<div class=\"modal-header\">\n",
              "<button class=\"close\" onclick=\"fechaBoxFavoritosConfigurar();\" type=\"button\">\n",
              "\t\t\t        Close <span class=\"fa fa-times\"></span>\n",
              "</button>\n",
              "<h3 class=\"modal-title\"> \n",
              "                    Meus Favoritos\n",
              "                </h3>\n",
              "</div>\n",
              "<div class=\"modal-body\">\n",
              "<div class=\"tableFavoritos contatoFavoritos form-contato list-unstyled\">\n",
              "<table>\n",
              "<tr class=\"subTitFavoritos\"><td><a title=\"O Fundo\"><span>O Fundo</span></a></td></tr><tr><td><a class=\"false\" id=\"/https://xpmalls.riweb.com.br/show.aspx?idCanal=hF0Hq3OZbPRikHv2PNwxVg==\" target=\"_self\" title=\"Perfil e Características do Fundo\"><span class=\"fa fa-close\"></span>Perfil e Características do Fundo</a></td></tr><tr><td><a class=\"false\" id=\"/https://xpmalls.riweb.com.br/show.aspx?idCanal=AZ5u4L9+Xh/hl89m+9K6zw==\" target=\"_self\" title=\"Processo de Investimento\"><span class=\"fa fa-close\"></span>Processo de Investimento</a></td></tr><tr><td><a class=\"false\" id=\"/https://xpmalls.riweb.com.br/show.aspx?idCanal=hi+3ubu3A7zA85JQLhY9hw==\" target=\"_self\" title=\"Vantagens Competitivas\"><span class=\"fa fa-close\"></span>Vantagens Competitivas</a></td></tr><tr><td><a class=\"false\" id=\"/https://xpmalls.riweb.com.br/show.aspx?idCanal=YkNR8TsTBrH+xwlvw1NlNg==\" target=\"_self\" title=\"Mercado de Shopping Centers\"><span class=\"fa fa-close\"></span>Mercado de Shopping Centers</a></td></tr><tr><td><a class=\"false\" id=\"/https://xpmalls.riweb.com.br/show.aspx?idCanal=VEeWYIAVIlqvtJJVlx7HJg==\" target=\"_self\" title=\"Portfólio do Fundo\"><span class=\"fa fa-close\"></span>Portfólio do Fundo</a></td></tr><tr><td><a class=\"false\" id=\"/https://xpmalls.riweb.com.br/show.aspx?idCanal=mgdDiDXzLtV4UfKtLCZ+TQ==\" target=\"_self\" title=\"Gestor\"><span class=\"fa fa-close\"></span>Gestor</a></td></tr><tr><td><a class=\"false\" id=\"/https://xpmalls.riweb.com.br/show.aspx?idCanal=gTtkWBF3nQ6JrqgBu1Cm7Q==\" target=\"_self\" title=\"Administrador\"><span class=\"fa fa-close\"></span>Administrador</a></td></tr><tr><td><a class=\"false\" id=\"/https://xpmalls.riweb.com.br/list.aspx?idCanal=YLOLCxTrGzyED0si7/oaBA==\" target=\"_self\" title=\"Apresentação Institucional\"><span class=\"fa fa-close\"></span>Apresentação Institucional</a></td></tr><tr class=\"subTitFavoritos\"><td><a title=\"Governança\"><span>Governança</span></a></td></tr><tr><td><a class=\"false\" id=\"/https://xpmalls.riweb.com.br/list.aspx?idCanal=YHE0Ai6+gXIAfOt65X9i5Q==\" target=\"_self\" title=\"Assembleias\"><span class=\"fa fa-close\"></span>Assembleias</a></td></tr><tr><td><a class=\"false\" id=\"/https://xpmalls.riweb.com.br/list.aspx?idCanal=uCwXIvlOOkVV6v6kd/HlHQ==\" target=\"_self\" title=\"Demonstrações Financeiras\"><span class=\"fa fa-close\"></span>Demonstrações Financeiras</a></td></tr><tr><td><a class=\"false\" id=\"/https://xpmalls.riweb.com.br/list.aspx?idCanal=hS7ipDwHKsVpmIBPccAkfw==\" target=\"_self\" title=\"Regulamento do Fundo\"><span class=\"fa fa-close\"></span>Regulamento do Fundo</a></td></tr><tr><td><a class=\"false\" id=\"/https://xpmalls.riweb.com.br/listgroup.aspx?idCanal=jdhZtwS7HRasqWFJ79LVFA==\" target=\"_self\" title=\"Emissões de Cotas\"><span class=\"fa fa-close\"></span>Emissões de Cotas</a></td></tr><tr class=\"False\"><td class=\"submenunetoFavoritos\"><a class=\"false\" id=\"/https://xpmalls.riweb.com.br/list.aspx?idCanal=/cFCDuRuu9NZ+T4HiMVeTg==\" target=\"_self\" title=\"Prospecto\"><span class=\"fa fa-close\"></span>Prospecto</a></td></tr><tr class=\"False\"><td class=\"submenunetoFavoritos\"><a class=\"false\" id=\"/https://xpmalls.riweb.com.br/list.aspx?idCanal=b9rS6KN/VnLmLVcwfEj+bQ==\" target=\"_self\" title=\"Anúncios\"><span class=\"fa fa-close\"></span>Anúncios</a></td></tr><tr class=\"False\"><td class=\"submenunetoFavoritos\"><a class=\"false\" id=\"/https://xpmalls.riweb.com.br/list.aspx?idCanal=loYVIHH371wykP3RP8SybQ==\" target=\"_self\" title=\"Material Publicitário\"><span class=\"fa fa-close\"></span>Material Publicitário</a></td></tr><tr class=\"subTitFavoritos\"><td><a title=\"Informações aos Investidores\"><span>Informações aos Investidores</span></a></td></tr><tr><td><a class=\"false\" id=\"/https://xpmalls.riweb.com.br/list.aspx?idCanal=EpfwKE0mUZq5yloqymUsNA==\" target=\"_self\" title=\"Comunicados ao Mercado\"><span class=\"fa fa-close\"></span>Comunicados ao Mercado</a></td></tr><tr><td><a class=\"false\" id=\"/https://xpmalls.riweb.com.br/list.aspx?idCanal=COzjE/7BYpL+Ii82umKIoQ==\" target=\"_self\" title=\"Fatos Relevantes\"><span class=\"fa fa-close\"></span>Fatos Relevantes</a></td></tr><tr><td><a class=\"false\" id=\"/https://xpmalls.riweb.com.br/show.aspx?idCanal=1ecQvRWrEFcd6G2SfFVKbQ==\" target=\"_self\" title=\"Cobertura de Analistas\"><span class=\"fa fa-close\"></span>Cobertura de Analistas</a></td></tr><tr class=\"subTitFavoritos\"><td><a title=\"Resultados\"><span>Resultados</span></a></td></tr><tr><td><a class=\"false\" id=\"/https://xpmalls.riweb.com.br/list.aspx?idCanal=kvNzmBoSOV6K7Q9BieMORw==\" target=\"_self\" title=\"Relatórios Mensais de Resultado\"><span class=\"fa fa-close\"></span>Relatórios Mensais de Resultado</a></td></tr><tr><td><a class=\"false\" id=\"/https://xpmalls.riweb.com.br/list.aspx?idCanal=Y8EcxQ1BImq8OQdGrFVZPQ==\" target=\"_self\" title=\"Relatórios Trimestrais de Resultado\"><span class=\"fa fa-close\"></span>Relatórios Trimestrais de Resultado</a></td></tr><tr><td><a class=\"false\" id=\"/https://xpmalls.riweb.com.br/list.aspx?idCanal=j6tXKCoj9UYAzg9yQJf/TA==\" target=\"_self\" title=\"Informes Trimestrais\"><span class=\"fa fa-close\"></span>Informes Trimestrais</a></td></tr><tr><td><a class=\"false\" id=\"/https://xpmalls.riweb.com.br/list.aspx?idCanal=cLTm/YGK4HJABcveAhibtg==\" target=\"_self\" title=\"Informes Anuais\"><span class=\"fa fa-close\"></span>Informes Anuais</a></td></tr><tr><td><a class=\"false\" id=\"/https://xpmalls.riweb.com.br/list.aspx?idCanal=9aEfHhsc21L91yOiHkSn4Q==\" target=\"_self\" title=\"Apresentações de Resultados e Webcasts\"><span class=\"fa fa-close\"></span>Apresentações de Resultados e Webcasts</a></td></tr><tr><td><a class=\"false\" id=\"/https://xpmalls.riweb.com.br/list.aspx?idCanal=FSQfzXQ4rkTdqecwg04shA==\" target=\"_self\" title=\"Planilha de Fundamentos\"><span class=\"fa fa-close\"></span>Planilha de Fundamentos</a></td></tr><tr><td><a class=\"false\" id=\"/https://xpmalls.riweb.com.br/list.aspx?idCanal=jMmAvIqKKrIQ6BQUoR3LhA==\" target=\"_self\" title=\"Comunicados de Rendimentos\"><span class=\"fa fa-close\"></span>Comunicados de Rendimentos</a></td></tr><tr><td><a class=\"false\" id=\"/https://xpmalls.riweb.com.br/list.aspx?idCanal=uGZMBrmyP138x8M28zJn1g==\" target=\"_self\" title=\"Relatório de Sustentabilidade\"><span class=\"fa fa-close\"></span>Relatório de Sustentabilidade</a></td></tr><tr class=\"subTitFavoritos\"><td><a title=\"Contato\"><span>Contato</span></a></td></tr><tr><td><a class=\"false\" id=\"/https://xpmalls.riweb.com.br/fale_conosco.aspx?idCanal=TvZe1of9aEPNg5NI2lkVaQ==\" target=\"_self\" title=\"Fale com RI\"><span class=\"fa fa-close\"></span>Fale com RI</a></td></tr><tr><td><a class=\"false\" id=\"/javascript:abreBoxMailingMenu()\" target=\"_self\" title=\"Cadastre-se no Mailing\"><span class=\"fa fa-close\"></span>Cadastre-se no Mailing</a></td></tr><tr class=\"subTitFavoritos\"><td><a title=\"Outras Informações\"><span>Outras Informações</span></a></td></tr><tr><td><a class=\"false\" id=\"/https://xpmalls.riweb.com.br/show.aspx?idCanal=AeQadnCLN54Pzuj4k+wC0Q==\" target=\"_self\" title=\"Cotações e Gráficos\"><span class=\"fa fa-close\"></span>Cotações e Gráficos</a></td></tr><tr><td><a class=\"false\" id=\"/https://xpmalls.riweb.com.br/show.aspx?idCanal=DI4kkyqhGTwRCHlMX04w2w==\" target=\"_self\" title=\"Glossário\"><span class=\"fa fa-close\"></span>Glossário</a></td></tr><tr><td><a class=\"false\" id=\"/https://xpmalls.riweb.com.br/show.aspx?idCanal=uELzBsC8JwGIowjDSZ2F1g==\" target=\"_self\" title=\"Características de um Fundo Imobiliário\"><span class=\"fa fa-close\"></span>Características de um Fundo Imobiliário</a></td></tr><tr><td><a class=\"false\" id=\"/https://xpmalls.riweb.com.br/show.aspx?idCanal=1isrtYFVn0YNH85tcDvx6g==\" target=\"_self\" title=\"Principais Fatores de Risco\"><span class=\"fa fa-close\"></span>Principais Fatores de Risco</a></td></tr><tr><td><a class=\"false\" id=\"/https://xpmalls.riweb.com.br/show.aspx?idCanal=9XrepI0RPC8rs3+gciLUGg==\" target=\"_self\" title=\"Política de Privacidade\"><span class=\"fa fa-close\"></span>Política de Privacidade</a></td></tr>\n",
              "</table>\n",
              "</div>\n",
              "</div>\n",
              "<div class=\"modal-footer\">\n",
              "<button class=\"blackBtn bt-color\" onclick=\"salvaBoxFavoritos();\" type=\"button\">\n",
              "                    salvar\n",
              "                </button>\n",
              "</div>\n",
              "</div><!-- /.modal-content -->\n",
              "</div><!-- /.modal-dialog -->\n",
              "</div><!-- /.modal -->\n",
              "<div class=\"container-full\">\n",
              "<div class=\"bg-breadcrumb slider-wrap\" id=\"ContentInternal_idEscpaanimacao\" style=\"background-image:url(img/bg-breadcrumb.jpg);\">\n",
              "<div class=\"container\">\n",
              "<div class=\"borda-titulo\">\n",
              "<h1>\n",
              "                            \n",
              "   \n",
              "    Resultados\n",
              " \n",
              "\n",
              "\t\t\t\t    </h1>\n",
              "</div>\n",
              "</div>\n",
              "</div>\n",
              "</div>\n",
              "<!-- Social FIXED -->\n",
              "<div class=\"fixed-wrapper hidden-xs\">\n",
              "<ul class=\"list-unstyled\">\n",
              "<li>\n",
              "<a class=\"linkedin\" href=\"https://www.linkedin.com/company/xpasset\" target=\"blank\" title=\"LinkedIn\">\n",
              "<span class=\"icon-linkedin\"></span>\n",
              "</a>\n",
              "</li>\n",
              "<li>\n",
              "<a class=\"telegram\" href=\"http://t.me/XP_Asset\" target=\"blank\" title=\"Telegram\">\n",
              "<span class=\"icon-telegram\"></span>\n",
              "</a>\n",
              "</li>\n",
              "<li>\n",
              "<a class=\"yout\" href=\"https://www.youtube.com/channel/UC-jNfX6MhcLLfMATynctQBQ\" target=\"blank\" title=\"Youtube\">\n",
              "<span class=\"icon-yout\"></span>\n",
              "</a>\n",
              "</li>\n",
              "<li>\n",
              "<span data-target=\"#favoritoModal\" data-toggle=\"modal\">\n",
              "<a class=\"fav\" data-placement=\"right\" data-toggle=\"tooltip\" title=\"Meus Favoritos\">\n",
              "<span class=\"icon-favorito\"></span>\n",
              "</a>\n",
              "</span>\n",
              "</li>\n",
              "</ul>\n",
              "</div>\n",
              "<!-- Content -->\n",
              "<div class=\"content\">\n",
              "<div class=\"container-full\">\n",
              "<div class=\"container\">\n",
              "<div class=\"row\">\n",
              "<div class=\"col-sm-6\">\n",
              "<ul class=\"breadcrumb hidden-xs\">\n",
              "<li class=\"bold\">\n",
              "                                Onde você está: \n",
              "\t\t\t\t\t        </li>\n",
              "<li><a href=\"/Default.aspx\" title=\"XP Malls\">XP Malls</a></li><li><a href=\"javascript:void(0);\" title=\"Resultados\">Resultados</a></li><li><a href=\"https://xpmalls.riweb.com.br/list.aspx?idCanal=kvNzmBoSOV6K7Q9BieMORw==\" title=\"Relatórios Mensais de Resultado\">Relatórios Mensais de Resultado</a></li>\n",
              "</ul>\n",
              "</div>\n",
              "<div class=\"col-sm-6\">\n",
              "<div class=\"ferramentas-show hidden-xs\">\n",
              "<ul class=\"list-unstyled list-inline\">\n",
              "<li>\n",
              "<a data-placement=\"bottom\" data-toggle=\"tooltip\" href=\"Default.aspx\" id=\"ContentInternal_ContentPlaceHolderBarraBotoes_menuTopo_voltarLink\" title=\"Voltar\">\n",
              "<span class=\"icon-voltar\"></span>\n",
              "</a>\n",
              "</li>\n",
              "<li>\n",
              "<a data-placement=\"bottom\" data-toggle=\"tooltip\" href=\"javascript:void(0)\" id=\"ContentInternal_ContentPlaceHolderBarraBotoes_menuTopo_diminuirFonte\" onclick=\"mudaFonte('menos'); return false\" title=\"Diminuir Fonte\">\n",
              "<span class=\"icon-font-menor\"></span>\n",
              "</a>\n",
              "</li>\n",
              "<li>\n",
              "<a data-placement=\"bottom\" data-toggle=\"tooltip\" href=\"javascript:void(0)\" id=\"ContentInternal_ContentPlaceHolderBarraBotoes_menuTopo_aumentarFonte\" onclick=\"mudaFonte('mais'); return false\" title=\"Aumentar Fonte\">\n",
              "<span class=\"icon-font-maior\"></span>\n",
              "</a>\n",
              "</li>\n",
              "<li id=\"idFavotitos\">\n",
              "<a onclick=\"NomeMarcarFavorito();\" title=\"Favoritar\"><img alt=\"Adicionar aos Favoritos\" class=\"icon-favorito\" id=\"imgMarcarFavorito\" src=\"\"><span></span></img></a><div class=\"overlayMarcarFavorito\" id=\"FundoOverlayMarcarFavorito\" style=\"display:none;\"></div><div class=\"modal fade show\" id=\"divCaixaNomeMarcarFavorito\" style=\"display:none;\"><div class=\"modal-header\"><button aria-hidden=\"true\" class=\"close\" data-dismiss=\"modal\" onclick=\"FecharBoxNomeMarcarFavorito();tiraFade(); \" type=\"button\">Close <span class=\"fa fa-times\"></span></button>\n",
              "<h3 class=\"modal-title\">Meus Favoritos</h3></div><ul class=\"contatoFavoritos form-contato list-unstyled\" id=\"contatoFavoritos\"><li><label class=\"sub-favoritos\">Preencha o campo abaixo:</label></li><li><label></label></li><li><label></label><input class=\"form-control\" id=\"txtNomeFavorito\" name=\"txtNomeFavorito\" type=\"text\"/></li><li><label></label></li><li class=\"bts\"><a onclick=\"ClickOkNomeMarcarFavorito();\"><img id=\"imgOk\" src=\"\"/></a><a onclick=\"FecharBoxNomeMarcarFavorito();\"><img id=\"imgCancelar\" src=\"\"/></a></li></ul></div>\n",
              "</li>\n",
              "<li>\n",
              "</li>\n",
              "<li>\n",
              "</li>\n",
              "</ul>\n",
              "<li class=\"box-combo\" id=\"ContentInternal_ContentPlaceHolderBarraBotoes_menuTopo_ddlAnoLink\">\n",
              "<span>Filtrar por ano:</span>\n",
              "<select class=\"form-control\" id=\"ContentInternal_ContentPlaceHolderBarraBotoes_menuTopo_ddlAnoFiltro\" name=\"ctl00$ctl00$ContentInternal$ContentPlaceHolderBarraBotoes$menuTopo$ddlAnoFiltro\" onchange=\"javascript:filtrarAno();\">\n",
              "<option value=\"Todos\">Todos</option>\n",
              "<option value=\"2023\">2023</option>\n",
              "<option value=\"2022\">2022</option>\n",
              "<option value=\"2021\">2021</option>\n",
              "<option value=\"2020\">2020</option>\n",
              "<option value=\"2019\">2019</option>\n",
              "<option value=\"2018\">2018</option>\n",
              "</select>\n",
              "</li>\n",
              "</div>\n",
              "</div>\n",
              "</div>\n",
              "</div>\n",
              "<div class=\"container\">\n",
              "<div class=\"txt-show list\">\n",
              "<div class=\"container\">\n",
              "<h2> \n",
              "                                \n",
              "    \n",
              "    Relatórios Mensais de Resultado\n",
              "  \n",
              "\n",
              "\t\t\t\t\t    </h2>\n",
              "<ul class=\"list-unstyled combo-ano recebeCombo\">\n",
              "</ul>\n",
              "</div>\n",
              "<br/>\n",
              "<div class=\"container itens-container\">\n",
              "<div class=\"col-lg-12 list-item-page listLinha\">\n",
              "<span class=\"data\">\n",
              "                        07/06/2023\n",
              "                    </span>\n",
              "<span aria-hidden=\"true\" class=\"icone-pdf\"></span>\n",
              "<a href=\"Download.aspx?Arquivo=7Ef/6Cfjw/vRe2RvGjXIfQ==\" id=\"ContentInternal_ContentPlaceHolderConteudo_rptListaCanal_linkListaTituloChamada_0\" target=\"_self\" title=\"Relatório Mensal de Resultado - Maio/2023\">Relatório Mensal de Resultado - Maio/2023</a>\n",
              "</div>\n",
              "<div class=\"col-lg-12 list-item-page listLinha\">\n",
              "<span class=\"data\">\n",
              "                        08/05/2023\n",
              "                    </span>\n",
              "<span aria-hidden=\"true\" class=\"icone-pdf\"></span>\n",
              "<a href=\"Download.aspx?Arquivo=xTisu59WRqtILmQbjF+BRA==\" id=\"ContentInternal_ContentPlaceHolderConteudo_rptListaCanal_linkListaTituloChamada_1\" target=\"_self\" title=\"Relatório Mensal de Resultado - Abril/2023\">Relatório Mensal de Resultado - Abril/2023</a>\n",
              "</div>\n",
              "<div class=\"col-lg-12 list-item-page listLinha\">\n",
              "<span class=\"data\">\n",
              "                        10/04/2023\n",
              "                    </span>\n",
              "<span aria-hidden=\"true\" class=\"icone-pdf\"></span>\n",
              "<a href=\"Download.aspx?Arquivo=CMVXTt4EjrhDw2GZTDd06g==\" id=\"ContentInternal_ContentPlaceHolderConteudo_rptListaCanal_linkListaTituloChamada_2\" target=\"_self\" title=\"Relatório Mensal de Resultado - Mar/2023\">Relatório Mensal de Resultado - Mar/2023</a>\n",
              "</div>\n",
              "<div class=\"col-lg-12 list-item-page listLinha\">\n",
              "<span class=\"data\">\n",
              "                        07/03/2023\n",
              "                    </span>\n",
              "<span aria-hidden=\"true\" class=\"icone-pdf\"></span>\n",
              "<a href=\"Download.aspx?Arquivo=MP6tZjOAOUdfI+NX9YItxQ==\" id=\"ContentInternal_ContentPlaceHolderConteudo_rptListaCanal_linkListaTituloChamada_3\" target=\"_self\" title=\"Relatório Mensal de Resultado - Fev/2023\">Relatório Mensal de Resultado - Fev/2023</a>\n",
              "</div>\n",
              "<div class=\"col-lg-12 list-item-page listLinha\">\n",
              "<span class=\"data\">\n",
              "                        07/02/2023\n",
              "                    </span>\n",
              "<span aria-hidden=\"true\" class=\"icone-pdf\"></span>\n",
              "<a href=\"Download.aspx?Arquivo=nFjWDSBKoTY0UuknUMni+g==\" id=\"ContentInternal_ContentPlaceHolderConteudo_rptListaCanal_linkListaTituloChamada_4\" target=\"_self\" title=\"Relatório Mensal de Resultado - Jan/2023\">Relatório Mensal de Resultado - Jan/2023</a>\n",
              "</div>\n",
              "<div class=\"col-lg-12 list-item-page listLinha\">\n",
              "<span class=\"data\">\n",
              "                        06/01/2023\n",
              "                    </span>\n",
              "<span aria-hidden=\"true\" class=\"icone-pdf\"></span>\n",
              "<a href=\"Download.aspx?Arquivo=f9aRv+i7vPhl3NJ+VUQQ8Q==\" id=\"ContentInternal_ContentPlaceHolderConteudo_rptListaCanal_linkListaTituloChamada_5\" target=\"_self\" title=\"Relatório Mensal de Resultado - Dez/2022\">Relatório Mensal de Resultado - Dez/2022</a>\n",
              "</div>\n",
              "<div class=\"col-lg-12 list-item-page listLinha\">\n",
              "<span class=\"data\">\n",
              "                        07/12/2022\n",
              "                    </span>\n",
              "<span aria-hidden=\"true\" class=\"icone-pdf\"></span>\n",
              "<a href=\"Download.aspx?Arquivo=NMcaJVYgM1HGcT5K4Z09jw==\" id=\"ContentInternal_ContentPlaceHolderConteudo_rptListaCanal_linkListaTituloChamada_6\" target=\"_self\" title=\"Relatório Mensal de Resultado - Nov/2022\">Relatório Mensal de Resultado - Nov/2022</a>\n",
              "</div>\n",
              "<div class=\"col-lg-12 list-item-page listLinha\">\n",
              "<span class=\"data\">\n",
              "                        08/11/2022\n",
              "                    </span>\n",
              "<span aria-hidden=\"true\" class=\"icone-pdf\"></span>\n",
              "<a href=\"Download.aspx?Arquivo=+0fDuzxhv4aX4XrWXNjYpg==\" id=\"ContentInternal_ContentPlaceHolderConteudo_rptListaCanal_linkListaTituloChamada_7\" target=\"_self\" title=\"Relatório Mensal de Resultado - Out/2022\">Relatório Mensal de Resultado - Out/2022</a>\n",
              "</div>\n",
              "<div class=\"col-lg-12 list-item-page listLinha\">\n",
              "<span class=\"data\">\n",
              "                        07/10/2022\n",
              "                    </span>\n",
              "<span aria-hidden=\"true\" class=\"icone-pdf\"></span>\n",
              "<a href=\"Download.aspx?Arquivo=czRqbpDmnZ57AZAjl2afKQ==\" id=\"ContentInternal_ContentPlaceHolderConteudo_rptListaCanal_linkListaTituloChamada_8\" target=\"_self\" title=\"Relatório Mensal de Resultado - Set/2022\">Relatório Mensal de Resultado - Set/2022</a>\n",
              "</div>\n",
              "<div class=\"col-lg-12 list-item-page listLinha\">\n",
              "<span class=\"data\">\n",
              "                        08/09/2022\n",
              "                    </span>\n",
              "<span aria-hidden=\"true\" class=\"icone-pdf\"></span>\n",
              "<a href=\"Download.aspx?Arquivo=ALHb/yHd1cJFN0Nb3GDWDg==\" id=\"ContentInternal_ContentPlaceHolderConteudo_rptListaCanal_linkListaTituloChamada_9\" target=\"_self\" title=\"Relatório Mensal de Resultado - Ago/2022\">Relatório Mensal de Resultado - Ago/2022</a>\n",
              "</div>\n",
              "</div>\n",
              "<div class=\"show-page\">\n",
              "<div id=\"ContentInternal_ContentPlaceHolderConteudo_webControlPaginacao\">\n",
              "<div class=\"col-lg-12 txt-center paglist\">\n",
              "<a class=\"disabled\" id=\"lnkAnterior\" rel=\"prev\">ANTERIOR</a><a class=\"\" href=\"/list.aspx?idCanal=kvNzmBoSOV6K7Q9BieMORw==&amp;pagina=0#ancora\" id=\"lnkNumeracao\">1</a><a href=\"/list.aspx?idCanal=kvNzmBoSOV6K7Q9BieMORw==&amp;pagina=1#ancora\" id=\"lnkNumeracao\" rel=\"next\">2</a><a class=\"\" href=\"/list.aspx?idCanal=kvNzmBoSOV6K7Q9BieMORw==&amp;pagina=2#ancora\" id=\"lnkNumeracao\">3</a><a class=\"\" href=\"/list.aspx?idCanal=kvNzmBoSOV6K7Q9BieMORw==&amp;pagina=3#ancora\" id=\"lnkNumeracao\">4</a><a class=\"\" href=\"/list.aspx?idCanal=kvNzmBoSOV6K7Q9BieMORw==&amp;pagina=4#ancora\" id=\"lnkNumeracao\">5</a><a class=\"\" data-icon=\"arrow-l\" href=\"/list.aspx?idCanal=kvNzmBoSOV6K7Q9BieMORw==&amp;pagina=1#ancora\" id=\"lnkProximo\" rel=\"next\">PRÓXIMO</a>\n",
              "</div>\n",
              "</div>\n",
              "</div>\n",
              "</div>\n",
              "</div>\n",
              "</div>\n",
              "</div>\n",
              "<div aria-hidden=\"true\" class=\"modal fade\" id=\"favoritoModal\" role=\"dialog\" tabindex=\"-1\">\n",
              "<div class=\"modal-dialog\">\n",
              "<div class=\"modal-content\">\n",
              "<span><span></span><span id=\"ContentInternal_ctl02_lblTituloMeusFavoritos\"><div class=\"modal-header\">\n",
              "<button aria-hidden=\"true\" class=\"close\" data-dismiss=\"modal\" type=\"button\">Close <span class=\"fa fa-times\"></span> </button>\n",
              "<h3 class=\"modal-title\">Meus Favoritos</h3>\n",
              "</div></span><span class=\"\"></span></span><div class=\"modal-body\"><ul class=\"listFavoritos\"></ul><span id=\"ContentInternal_ctl02_lblTextoSemFavoritosInnerHtml\" style=\"display:block;\"><div><div class=\"txtFavoritos\"><p>Para configurar \"<strong>Meus Favoritos</strong>\" Clique em \"<strong>Configurar</strong>\" ou no ícone <span class=\"fa fa-star-o\"></span>, na barra de ferramentas. Para excluí-la, basta clicar no <span class=\"fa fa-close\"></span>.</p></div></div></span></div><script>\n",
              "\turlsMeusFavoritos = [''];\n",
              "</script>\n",
              "<div class=\"modal-footer\">\n",
              "<a class=\"blackBtn bt-color2\" onclick=\"abreBoxFavoritos()\" title=\"Configurar\">\n",
              "                            Configurar\n",
              "                        </a>\n",
              "</div>\n",
              "</div><!-- /.modal-content -->\n",
              "</div><!-- /.modal-dialog -->\n",
              "</div><!-- /.modal -->\n",
              "<footer>\n",
              "<section class=\"termos-politica alertaLGPD alerta-dismissible\" style=\"display:none\">\n",
              "<p> Clicando em \"Aceitar todos os cookies\", você aceita nossa política de cookies com objetivo de melhorar sua navegação. Conheça nossa <a href=\"./Download.aspx?Arquivo=eidrlrDnIFj05iao4obHMQ==\" style=\"text-decoration: underline;\">política de cookies, </a> <a href=\"./show.aspx?idCanal=9XrepI0RPC8rs3+gciLUGg==\" style=\"text-decoration: underline;\">política de privacidade</a> e <button id=\"ihavecookiesBtn\" type=\"button\"><u>configure seus cookies</u></button>.</p>\n",
              "<div class=\"termos-politica-acoes\">\n",
              "<span class=\"aceitar-termos-politica\" onclick=\"setAllCookies(); return false\">Aceitar todos os cookies</span>\n",
              "</div>\n",
              "</section>\n",
              "<div class=\"\">\n",
              "<div class=\"container-full\">\n",
              "<div class=\"rodape\">\n",
              "<div class=\"container-full\">\n",
              "<div class=\"row\">\n",
              "<div class=\"col-lg-3 col-sm-12\">\n",
              "<div class=\"wrapper-style9\">\n",
              "<a class=\"faleRI\" href=\"fale_conosco.aspx?idCanal=TvZe1of9aEPNg5NI2lkVaQ==\" id=\"linkFaleRI\">\n",
              "                                            FALE COM RI\n",
              "                                        </a>\n",
              "</div>\n",
              "</div>\n",
              "<div class=\"col-lg-9 col-sm-12\">\n",
              "<div class=\"wrapper-style10\">\n",
              "<a class=\"alertasRI\" data-target=\"#alertasModal\" data-toggle=\"modal\" href=\"javascript:void(0);\">\n",
              "                                            ALERTAS RI\n",
              "                                        </a>\n",
              "<div class=\"inputgroup\">\n",
              "<input class=\"form-control inputAlertas\" id=\"alertaemail\" name=\"ctl00$ctl00$alertaemail\" placeholder=\"@ Digite seu e-mail aqui\" type=\"text\"/>\n",
              "<a data-target=\"#alertasModal\" data-toggle=\"modal\" href=\"javascript:void(0);\" id=\"inputok\" onclick=\"abreBoxMailing()\">\n",
              "<span class=\"cadastrar\">\n",
              "                                                    CADASTRAR  »\n",
              "                                                </span>\n",
              "</a>\n",
              "</div>\n",
              "</div>\n",
              "</div>\n",
              "</div>\n",
              "</div>\n",
              "<div class=\"hidden-xs dark\"></div>\n",
              "</div>\n",
              "<div class=\"anbima\">\n",
              "<div class=\"container-full\">\n",
              "<div class=\"row\">\n",
              "<div class=\"col-11\">\n",
              "<img alt=\"ANBIMA\" class=\"img-fluid\" src=\"img/anbima.jpg\"/>\n",
              "<p style=\"text-align: justify;\">A XP Asset Management é uma marca que inclui a XP Gestão de Recursos Ltda. (\"XPG\"), XP PE Gestão de Recursos Ltda. (“XPPE”), XP Allocation Asset Management Ltda. (“XP Allocation”) e a XP Vista Asset Management Ltda. (\"XPV\"). A XPG, XPPE, XPV e XP Allocation são gestoras de recursos de valores mobiliários autorizadas pela Comissão de Valores Mobiliários - CVM e constituídas na forma da Instrução CVM n° 558/15. Todas as regras regulatórias de segregação são observadas pelas gestoras. Os fundos de estratégias de investimentos de Renda Variável e Multimercado são geridos pela XPG. Os fundos de estratégias de investimentos de Renda Fixa e Estruturados são geridos pela XPV. Os fundos de Previdência podem ser geridos tanto pela XPG quanto pela XPV, a depender da estratégia do fundo. Os fundos de private equity são geridos pela XPPE. A XP Allocation atua na gestão de fundos de investimentos e fundos de cotas de fundos de investimentos, com foco em Alocação (asset Allocation, fund of funds, acesso) e Indexados. A gestão dos FIIs é feita pela XPV. A XPPE, XPG, XP Allocation e a XPV não comercializam nem distribuem quotas de fundos de investimento ou qualquer outro ativo financeiro. As informações contidas neste site são de caráter meramente informativo e não constituem qualquer tipo de aconselhamento de investimentos, não devendo ser utilizadas com este propósito. Nenhuma informação contida neste site constitui uma solicitação, material promocional ou publicitário, oferta ou recomendação para compra ou venda de quotas de fundos de investimento, ou de quaisquer outros valores mobiliários. Este site não é direcionado para quem se encontrar proibido por lei a acessar as informações nele contidas, as quais não devem ser usadas de qualquer forma contrária à qualquer lei de qualquer jurisdição. A XPG, XPPE, XP Allocation e a XPV, seus sócios e funcionários isentam-se de responsabilidade por decisões de investimentos que venham a ser tomadas com base nas informações divulgadas e sobre quaisquer danos resultantes direta ou indiretamente da utilização das informações contidas neste site.    <br/> <br/>    PARA AVALIAÇÃO DA PERFORMANCE DE UM FUNDO DE INVESTIMENTO, É RECOMENDÁVEL A ANÁLISE DE, NO MÍNIMO, 12 (DOZE) MESES. FUNDOS DE INVESTIMENTO NÃO CONTAM COM GARANTIA DO ADMINISTRADOR, DO GESTOR, DE QUALQUER MECANISMO DE SEGURO OU FUNDO GARANTIDOR DE CRÉDITO – FGC. INVESTIMENTOS NOS MERCADOS FINANCEIROS E DE CAPITAIS ESTÃO SUJEITOS A RISCOS DE PERDA SUPERIOR AO VALOR TOTAL DO CAPITAL INVESTIDO. RENTABILIDADE PASSADA NÃO REPRESENTA GARANTIA DE RENTABILIDADE FUTURA A RENTABILIDADE DIVULGADA NÃO É LÍQUIDA DE IMPOSTOS. LEIA O PROSPECTO, O FORMULÁRIO DE INFORMAÇÕES COMPLEMENTARES, LÂMINA DE INFORMAÇÕES ESSENCIAIS E O REGULAMENTO ANTES DE INVESTIR. DESCRIÇÃO DO TIPO ANBIMA DISPONÍVEL NO FORMULÁRIO DE INFORMAÇÕES COMPLEMENTARES.</p>\n",
              "<a class=\"saibamais\" href=\"./Download.aspx?Arquivo=eidrlrDnIFj05iao4obHMQ==\">Política de cookies</a>\n",
              "<a class=\"saibamais\" href=\"./show.aspx?idCanal=9XrepI0RPC8rs3+gciLUGg==\">Política de Privacidade</a>\n",
              "<a class=\"saibamais\" id=\"ihavecookiesBtn2\">configure seus cookies</a>\n",
              "</div>\n",
              "<div class=\"col-1 social\">\n",
              "<div class=\"row\">\n",
              "<a class=\"icon-linkedin\" href=\"https://www.linkedin.com/company/xpasset\" target=\"blank\" title=\"LinkedIn\"></a>\n",
              "</div>\n",
              "<div class=\"row\">\n",
              "<a class=\"icon-telegram\" href=\"http://t.me/XP_Asset\" target=\"blank\" title=\"Telegram\"></a>\n",
              "</div>\n",
              "<div class=\"row\">\n",
              "<a class=\"icon-yout\" href=\"https://www.youtube.com/channel/UC-jNfX6MhcLLfMATynctQBQ\" target=\"blank\"></a>\n",
              "</div>\n",
              "</div>\n",
              "</div>\n",
              "</div>\n",
              "</div>\n",
              "</div>\n",
              "<div class=\"copyright\">\n",
              "<div class=\"container-full\">\n",
              "<div class=\"row\">\n",
              "<span>\n",
              "                                    Copyright © 2017 XP Malls - Todos os direitos reservados\n",
              "                                </span>\n",
              "<a class=\"developed-by\" href=\"https://riprisma.com.br\" target=\"_blank\">\n",
              "<img alt=\"PRISMA\" src=\"https://template.riweb.com.br/prisma/poweredby/selo/prisma-white.svg\"/>\n",
              "</a>\n",
              "</div>\n",
              "</div>\n",
              "</div>\n",
              "</div>\n",
              "</footer>\n",
              "<input class=\"hidLinguagem\" name=\"ctl00$ctl00$ctl26\" type=\"hidden\" value=\"ptg\"/>\n",
              "<script defer=\"\" src=\"js/popper.min.js\"></script>\n",
              "<script defer=\"\" src=\"js/bootstrap.js\" type=\"text/javascript\"></script>\n",
              "<script defer=\"\" src=\"js/bootstrap.min.js\" type=\"text/javascript\"></script>\n",
              "<script defer=\"\" src=\"js/layerslider.kreaturamedia.jquery.js\" type=\"text/javascript\"></script>\n",
              "<script defer=\"\" src=\"js/owl.carousel.min.js\" type=\"text/javascript\"></script>\n",
              "<script defer=\"\" src=\"js/scripts.js\" type=\"text/javascript\"></script>\n",
              "<script defer=\"\" src=\"js/cookies.js\" type=\"text/javascript\"></script>\n",
              "<script defer=\"\" src=\"js/jquery.ihavecookies.js\" type=\"text/javascript\"></script>\n",
              "<script defer=\"\" src=\"js/Master.js\" type=\"text/javascript\"></script>\n",
              "<!-- Global site tag (gtag.js) - Google Analytics -->\n",
              "<script async=\"\" src=\"https://www.googletagmanager.com/gtag/js?id=UA-5145909\"></script>\n",
              "<script>\n",
              "\n",
              "            var varCookieControlPrefs = getCookieMaster('cookieControlPrefs')\n",
              "            if (varCookieControlPrefs != undefined) {\n",
              "                if (varCookieControlPrefs.indexOf('analytics') > -1) {\n",
              "                    window.dataLayer = window.dataLayer || [];\n",
              "                    function gtag() { dataLayer.push(arguments); }\n",
              "                    gtag('js', new Date());\n",
              "                    gtag('config', 'UA-5145909-1');\n",
              "                }\n",
              "            }\n",
              "            function getCookieMaster(cookieName) {\n",
              "                let cookie = {};\n",
              "                document.cookie.split(';').forEach(function (el) {\n",
              "                    let [key, value] = el.split('=');\n",
              "                    cookie[key.trim()] = value;\n",
              "                })\n",
              "                return cookie[cookieName];\n",
              "            }\n",
              "\n",
              "        </script>\n",
              "<script src=\"./js/meiomask.js\" type=\"text/javascript\"></script>\n",
              "<script type=\"text/javascript\">\n",
              "\n",
              "        //validar captcha\n",
              "\n",
              "        var verifyCallback = function () {\n",
              "            $(\"input[id*=idCaptcha]\").attr('value', '1');\n",
              "        };\n",
              "\n",
              "        var onloadCallback = function () {\n",
              "            grecaptcha.render('divCaptcha', {\n",
              "                'sitekey': '6LcqZUAUAAAAAHDKAT0Vra9zOM9JsCVCPcHqwEWQ',\n",
              "                'data-callback': 'recaptchaCallback',\n",
              "                'callback': verifyCallback\n",
              "            });\n",
              "        };\n",
              "\n",
              "        //fim validar\n",
              "\n",
              "</script>\n",
              "<script src=\"https://www.google.com/recaptcha/api.js?onload=onloadCallback&amp;render=explicit\" type=\"text/javascript\"></script>\n",
              "<script type=\"text/javascript\">\n",
              "\n",
              "    $(document).ready(function () {\n",
              "        $('input[id*=controlTelefone]').setMask('(99) 9999-99999');\n",
              "\n",
              "        var captcha = $('#divCaptchaAlerta');\n",
              "        $('#alertasModal div.formAlerta').append(captcha);\n",
              "    });\n",
              "</script>\n",
              "<script type=\"text/javascript\">\n",
              "      function ativarBotao() {\n",
              "\n",
              "          var checkBox = document.getElementById(\"form_terms_alertas\");\n",
              "\n",
              "\n",
              "          if (checkBox.checked == true) {\n",
              "\n",
              "              $(\"#botao-enviar\").removeClass(\"desabilita-botao\");\n",
              "               } else {\n",
              "              $(\"#botao-enviar\").addClass(\"desabilita-botao\");\n",
              "          }\n",
              "      }\n",
              "  </script>\n",
              "<div aria-hidden=\"true\" class=\"modal fade\" id=\"alertasModal\" role=\"dialog\" tabindex=\"-1\">\n",
              "<div class=\"modal-dialog\">\n",
              "<div class=\"modal-content\">\n",
              "<div class=\"modal-header\">\n",
              "<button aria-hidden=\"true\" class=\"close\" data-dismiss=\"modal\" onclick=\"fechaBoxAlerta();\" type=\"button\">Fechar<span class=\"fa fa-times\"></span> </button>\n",
              "<h3 class=\"modal-title\">Alertas RI</h3>\n",
              "</div>\n",
              "<div class=\"modal-body\">\n",
              "<div class=\"form-contato formAlerta\" role=\"form\">\n",
              "<div class=\"row\">\n",
              "<div class=\"col-md-12\">\n",
              "<div class=\"form-group\">\n",
              "<label class=\"sr-only\">Nome</label>\n",
              "<input class=\"form-control\" id=\"nome_modal\" placeholder=\"Digite seu Nome*\" type=\"text\"/>\n",
              "</div>\n",
              "</div>\n",
              "</div>\n",
              "<div class=\"row\">\n",
              "<div class=\"col-md-12\">\n",
              "<div class=\"form-group\">\n",
              "<label class=\"sr-only\">E-Mail</label>\n",
              "<input class=\"form-control\" id=\"email_modal\" placeholder=\"Digite seu e-mail*\" type=\"text\"/>\n",
              "</div>\n",
              "</div>\n",
              "</div>\n",
              "<div class=\"row\">\n",
              "<div class=\"col-md-12\">\n",
              "<div class=\"form-group\">\n",
              "<label class=\"sr-only\">Telefone</label>\n",
              "<input class=\"form-control\" id=\"controlTelefone\" placeholder=\"Digite seu Telefone\" type=\"text\"/>\n",
              "</div>\n",
              "</div>\n",
              "</div>\n",
              "<div class=\"row\">\n",
              "<div class=\"col-md-12\">\n",
              "<div class=\"form-group\">\n",
              "<label class=\"sr-only\">Empresa</label>\n",
              "<input class=\"form-control\" id=\"controlEmpresa\" placeholder=\"Digite a empresa\" type=\"text\"/>\n",
              "</div>\n",
              "</div>\n",
              "</div>\n",
              "<div class=\"row\">\n",
              "<div class=\"col-md-12\">\n",
              "<div class=\"form-group\">\n",
              "<label class=\"sr-only\">Perfil</label>\n",
              "<select class=\"form-control\" id=\"controlPerfil\" name=\"perfil\">\n",
              "<option value=\"\">Perfil</option>\n",
              "<option value=\"Analista Buy side\">Analista Buy side</option>\n",
              "<option value=\"Analista Sell side\">Analista Sell side</option>\n",
              "<option value=\"Investidor\">Investidor</option>\n",
              "<option value=\"Jornalista\">Jornalista</option>\n",
              "<option value=\"Estudante\">Estudante</option>\n",
              "<option value=\"Outros\">Outros</option>\n",
              "</select>\n",
              "</div>\n",
              "</div>\n",
              "</div>\n",
              "<div class=\"col-md-6 checkbox-modal-form\">\n",
              "<label class=\"checkbox-inline\"><input class=\"checkbox\" id=\"controlMailingPort\" name=\"mailingIdiom\" title=\"\" type=\"checkbox\" value=\"23144\"/>Português</label><label class=\"checkbox-inline\"><input class=\"checkbox\" id=\"controlMailingIng\" name=\"mailingIdiom\" title=\"\" type=\"checkbox\" value=\"23145\"/>Inglês</label>\n",
              "</div>\n",
              "<div class=\"row\">\n",
              "<div class=\"col-md-12 mb-4\">\n",
              "<input class=\"filled-in mr-2\" id=\"form_terms_alertas\" name=\"form_terms_alertas\" onclick=\"ativarBotao()\" required=\"\" type=\"checkbox\"/>\n",
              "\t\t\t\t\t\tConcordo que os dados pessoais fornecidos acima serão utilizados para envio de conteúdo informativo, analítico e publicitário sobre produtos, serviços e assuntos gerais, nos termos da Lei Geral de Proteção de Dados. * O seu endereço de e-mail será usado com a finalidade de uma oportunidade, notícias sobre investimentos e contato da XP Asset. Para mais informações, visite a nossa <a href=\"http://xpmalls.riweb.com.br/show.aspx?idCanal=9XrepI0RPC8rs3+gciLUGg==\" style=\"text-decoration: underline;\">política de privacidade</a>.</div>\n",
              "</div>\n",
              "</div>\n",
              "</div>\n",
              "<div class=\"modal-footer\">\n",
              "<div class=\"col-md-12 pl-0 mt-3\">\n",
              "<div class=\"form-group float-left\">\n",
              "<input id=\"idCaptcha\" type=\"hidden\" value=\"0\">\n",
              "<a class=\"blackBtn bt-color2 desabilita-botao\" id=\"botao-enviar\" onclick=\"enviaAlerta()\">CADASTRAR</a>\n",
              "</input></div>\n",
              "</div>\n",
              "</div>\n",
              "</div><!-- /.modal-content -->\n",
              "</div><!-- /.modal-dialog -->\n",
              "</div><!-- /.modal -->\n",
              "<div class=\"col-md-6 pl-0\" id=\"divCaptchaAlerta\">\n",
              "<div id=\"divCaptcha\">\n",
              "</div>\n",
              "</div>\n",
              "<input id=\"Alertas_MsgErroCaptcha\" name=\"ctl00$ctl00$Alertas$MsgErroCaptcha\" type=\"hidden\" value=\"Código incorreto\"/>\n",
              "<input id=\"Alertas_MsgSucessoRi\" name=\"ctl00$ctl00$Alertas$MsgSucessoRi\" type=\"hidden\" value=\"Cadastro efetuado com sucesso.\"/>\n",
              "<script type=\"text/javascript\">\n",
              "            var options = {\n",
              "                title: 'Configure seus Cookies',\n",
              "                message: 'Utilizamos cookies para garantir a melhor experiência. Alguns são essenciais para o funcionamento, como o login, e não podem ser desativados. Temos também cookies para melhorar a performance, oferecer conteúdo personalizado, recursos nas redes sociais e análise de tráfego. Estes cookies podem incluir cookies de terceiros. ',\n",
              "                delay: 100,\n",
              "                expires: 30,\n",
              "                link: '',\n",
              "                onAccept: function () {\n",
              "                    var myPreferences = $.fn.ihavecookies.cookie();\n",
              "                    console.log('Configurações Salvas...');\n",
              "                    console.log(myPreferences);\n",
              "                },\n",
              "                cookieTypes: [\n",
              "                    {\n",
              "                        type: 'Analytics',\n",
              "                        value: 'analytics',\n",
              "                        description: 'Cookies utilizados para analises.'\n",
              "                    }\n",
              "                ],\n",
              "                uncheckBoxes: true,\n",
              "                acceptBtnLabel: 'Aceitar Cookies',\n",
              "                advancedBtnLabel: 'Escolher Cookies',\n",
              "                moreInfoLabel: 'Mais Informações',\n",
              "                cookieTypesTitle: 'Selecionar Cookies',\n",
              "                fixedCookieTypeLabel: 'Cookies Funcionais',\n",
              "                fixedCookieTypeDesc: 'Estes cookies são essenciais para o funcionamento do website..'\n",
              "            }\n",
              "        </script>\n",
              "</form>\n",
              "<script>\n",
              "        !function (e, l, v, i, o, n) { e[i] || (e[i] = {}), e[i].account_id = n; var g, h; g = l.createElement(v), g.type = \"text/javascript\", g.async = 1, g.src = o + n, h = l.getElementsByTagName(v)[0], h.parentNode.insertBefore(g, h); e[i].q = []; e[i].on = function (z, y) { e[i].q.push([z, y]) } }(window, document, \"script\", \"_elev\", \"https://cdn.elev.io/sdk/bootloader/v4/elevio-bootloader.js?cid=\", \"5db9c156aef3a\");\n",
              "            /* * For passing user information, please see * https://api-docs.elevio.help/en/articles/24\n",
              "*/\n",
              "    </script>\n",
              "</body>\n",
              "</html>"
            ]
          },
          "metadata": {},
          "execution_count": 15
        }
      ]
    },
    {
      "cell_type": "code",
      "source": [
        "linkPrimeiroDownloadLink = soup.find(\"a\", {\"id\":\"ContentInternal_ContentPlaceHolderConteudo_rptListaCanal_linkListaTituloChamada_0\"})\n",
        "linkPrimeiroDownloadLink"
      ],
      "metadata": {
        "colab": {
          "base_uri": "https://localhost:8080/"
        },
        "id": "b7ksTjAckABk",
        "outputId": "687e9af5-99c7-4217-ab0d-6d46fda6eaba"
      },
      "execution_count": 16,
      "outputs": [
        {
          "output_type": "execute_result",
          "data": {
            "text/plain": [
              "<a href=\"Download.aspx?Arquivo=7Ef/6Cfjw/vRe2RvGjXIfQ==\" id=\"ContentInternal_ContentPlaceHolderConteudo_rptListaCanal_linkListaTituloChamada_0\" target=\"_self\" title=\"Relatório Mensal de Resultado - Maio/2023\">Relatório Mensal de Resultado - Maio/2023</a>"
            ]
          },
          "metadata": {},
          "execution_count": 16
        }
      ]
    },
    {
      "cell_type": "code",
      "source": [
        "url_parcial_relatorio = linkPrimeiroDownloadLink[\"href\"]\n",
        "url_parcial_relatorio"
      ],
      "metadata": {
        "colab": {
          "base_uri": "https://localhost:8080/",
          "height": 36
        },
        "id": "fGP91_FFkI3P",
        "outputId": "9a84619c-c04e-4cfa-e590-2f9b68212f05"
      },
      "execution_count": 17,
      "outputs": [
        {
          "output_type": "execute_result",
          "data": {
            "text/plain": [
              "'Download.aspx?Arquivo=7Ef/6Cfjw/vRe2RvGjXIfQ=='"
            ],
            "application/vnd.google.colaboratory.intrinsic+json": {
              "type": "string"
            }
          },
          "metadata": {},
          "execution_count": 17
        }
      ]
    },
    {
      "cell_type": "code",
      "source": [
        "link_download_relatorio = url_xpmalls + url_parcial_relatorio\n",
        "link_download_relatorio"
      ],
      "metadata": {
        "colab": {
          "base_uri": "https://localhost:8080/",
          "height": 36
        },
        "id": "eyJmMmSVkv1-",
        "outputId": "7f3be5d4-7407-432d-bd86-e86123e28bc6"
      },
      "execution_count": 18,
      "outputs": [
        {
          "output_type": "execute_result",
          "data": {
            "text/plain": [
              "'https://xpmalls.riweb.com.br/Download.aspx?Arquivo=7Ef/6Cfjw/vRe2RvGjXIfQ=='"
            ],
            "application/vnd.google.colaboratory.intrinsic+json": {
              "type": "string"
            }
          },
          "metadata": {},
          "execution_count": 18
        }
      ]
    },
    {
      "cell_type": "markdown",
      "source": [
        "### Baixando o relatório"
      ],
      "metadata": {
        "id": "iSiOcw5TlPkk"
      }
    },
    {
      "cell_type": "code",
      "source": [
        "baixarPDFporURL(link_download_relatorio, \"XPML11.pdf\")"
      ],
      "metadata": {
        "colab": {
          "base_uri": "https://localhost:8080/"
        },
        "id": "2KbAxUqRlG9P",
        "outputId": "3206d0d8-4d11-45cd-95d3-d39b9f108c43"
      },
      "execution_count": 19,
      "outputs": [
        {
          "output_type": "stream",
          "name": "stdout",
          "text": [
            "Successfully downloaded /content/relatorios/XPML11.pdf.\n"
          ]
        }
      ]
    },
    {
      "cell_type": "markdown",
      "source": [
        "## Baixando o relatório gerencial do MXRF11"
      ],
      "metadata": {
        "id": "ETzeEii5pE1X"
      }
    },
    {
      "cell_type": "code",
      "source": [
        "soup = capturaHTMLdaPagina(\"https://xpmaxirenda.riweb.com.br/list.aspx?idCanal=dFDM2o4LcyHK171fQJvzkQ==\")\n",
        "linkPrimeiroDownloadLink = soup.find(\"a\", {\"id\":\"ContentInternal_ContentPlaceHolderConteudo_rptListaCanal_linkListaTituloChamada_0\"})\n",
        "url_parcial_relatorio = linkPrimeiroDownloadLink[\"href\"]\n",
        "link_download_relatorio = \"https://xpmaxirenda.riweb.com.br/\" + url_parcial_relatorio"
      ],
      "metadata": {
        "id": "j5SNtMcYpCmv"
      },
      "execution_count": 20,
      "outputs": []
    },
    {
      "cell_type": "code",
      "source": [
        "link_download_relatorio"
      ],
      "metadata": {
        "colab": {
          "base_uri": "https://localhost:8080/",
          "height": 36
        },
        "id": "i4IkZIxapCog",
        "outputId": "464b4523-d2b6-4040-d422-7420d7405ef6"
      },
      "execution_count": 21,
      "outputs": [
        {
          "output_type": "execute_result",
          "data": {
            "text/plain": [
              "'https://xpmaxirenda.riweb.com.br/Download.aspx?Arquivo=mu9Uz1VMl5xlkICCEaC0RQ=='"
            ],
            "application/vnd.google.colaboratory.intrinsic+json": {
              "type": "string"
            }
          },
          "metadata": {},
          "execution_count": 21
        }
      ]
    },
    {
      "cell_type": "code",
      "source": [
        "baixarPDFporURL(link_download_relatorio, \"MXRF11.pdf\")"
      ],
      "metadata": {
        "colab": {
          "base_uri": "https://localhost:8080/"
        },
        "id": "iP1PEvwMpCqp",
        "outputId": "82899042-3fdc-4d7e-ae31-805aa368164b"
      },
      "execution_count": 22,
      "outputs": [
        {
          "output_type": "stream",
          "name": "stdout",
          "text": [
            "Successfully downloaded /content/relatorios/MXRF11.pdf.\n"
          ]
        }
      ]
    },
    {
      "cell_type": "markdown",
      "source": [
        "## HRGU11 tentativa 1"
      ],
      "metadata": {
        "id": "mqZ-2-Dhua34"
      }
    },
    {
      "cell_type": "code",
      "source": [
        "soup = capturaHTMLdaPagina(\"https://imobiliario.cshg.com.br/central-de-downloads/relatorios-periodicos/hgru/\")"
      ],
      "metadata": {
        "id": "7ng-Jk4-pCsb"
      },
      "execution_count": 23,
      "outputs": []
    },
    {
      "cell_type": "code",
      "source": [
        "linha_relatorios = soup.findAll(\"tr\")[1].findAll(\"td\")\n",
        "print(linha_relatorios)"
      ],
      "metadata": {
        "colab": {
          "base_uri": "https://localhost:8080/"
        },
        "id": "vCF4cZfKuil_",
        "outputId": "f2cade4a-203a-4d14-b214-4f27f9dc0169"
      },
      "execution_count": 24,
      "outputs": [
        {
          "output_type": "stream",
          "name": "stdout",
          "text": [
            "[<td>Relatórios ao Investidor</td>, <td class=\"month\" data-month=\"01\"></td>, <td class=\"month\" data-month=\"02\"></td>, <td class=\"month\" data-month=\"03\"></td>, <td class=\"month\" data-month=\"04\"></td>, <td class=\"month\" data-month=\"05\"></td>, <td class=\"month\" data-month=\"06\"></td>, <td class=\"month\" data-month=\"07\"></td>, <td class=\"month\" data-month=\"08\"></td>, <td class=\"month\" data-month=\"09\"></td>, <td class=\"month\" data-month=\"10\"></td>, <td class=\"month\" data-month=\"11\"></td>, <td class=\"month\" data-month=\"12\"></td>]\n"
          ]
        }
      ]
    },
    {
      "cell_type": "code",
      "source": [
        "soup.findAll(\"a\", attrs = {'target': '_blank'})"
      ],
      "metadata": {
        "colab": {
          "base_uri": "https://localhost:8080/"
        },
        "id": "WS5EnDNOpCwo",
        "outputId": "be217192-3cc3-40fe-cd64-57faea597ff0"
      },
      "execution_count": 25,
      "outputs": [
        {
          "output_type": "execute_result",
          "data": {
            "text/plain": [
              "[<a href=\"https://www.cshg.com.br/publico/mailing-imobiliario/acesso\" rel=\"noopener\" target=\"_blank\">Mailing</a>,\n",
              " <a href=\"https://www.credit-suisse.com/br/pt/legal/termos-de-uso.html\" target=\"_blank\">Termos de uso</a>,\n",
              " <a href=\"https://www.credit-suisse.com/br/pt/legal/politica-de-privacidade.html\" target=\"_blank\">Política de privacidade</a>,\n",
              " <a href=\"https://www.credit-suisse.com/br/pt/legal/ouvidoria.html\" target=\"_blank\">Ouvidoria</a>,\n",
              " <a href=\"https://www.credit-suisse.com/br/pt/quem-somos/remuneracao-e-custos.html\" target=\"_blank\">Política de custos</a>,\n",
              " <a href=\"https://www.credit-suisse.com/media/assets/private-banking/docs/br/public-policy-cybersecurity.pdf\" target=\"_blank\">Política de Segurança </a>,\n",
              " <a href=\"https://www.credit-suisse.com/br/pt/legal/seguranca.html\" target=\"_blank\">Dicas de Segurança</a>,\n",
              " <a href=\"https://www.credit-suisse.com/br/pt/legal/aviso-private.html\" target=\"_blank\">Avisos importantes sobre produtos e serviços de Private Banking</a>,\n",
              " <a href=\"https://www.mzgroup.com/\" target=\"_blank\">MZ</a>]"
            ]
          },
          "metadata": {},
          "execution_count": 25
        }
      ]
    },
    {
      "cell_type": "markdown",
      "source": [
        "## KNCR11"
      ],
      "metadata": {
        "id": "ipeleG01yAmf"
      }
    },
    {
      "cell_type": "code",
      "source": [
        "soup = capturaHTMLdaPagina(\"https://www.kinea.com.br/fundos/fundo-imobiliario-kinea-rendimentos-kncr11/\")"
      ],
      "metadata": {
        "id": "iq2XgoIppCyi"
      },
      "execution_count": 26,
      "outputs": []
    },
    {
      "cell_type": "code",
      "source": [
        "tagsA = soup.findAll(\"a\")\n",
        "\n",
        "for a in tagsA:\n",
        "  if a.text == \"Carta do Gestor\":\n",
        "    link_download_relatorio = a[\"href\"]\n",
        "    break"
      ],
      "metadata": {
        "id": "XcyAB69Cyfl5"
      },
      "execution_count": 27,
      "outputs": []
    },
    {
      "cell_type": "code",
      "source": [
        "baixarPDFporURL(link_download_relatorio, \"KNCR11.pdf\")"
      ],
      "metadata": {
        "colab": {
          "base_uri": "https://localhost:8080/"
        },
        "id": "MoFWFFF7y5_x",
        "outputId": "e6938068-5a47-450d-bdc1-77fc89ca8732"
      },
      "execution_count": 28,
      "outputs": [
        {
          "output_type": "stream",
          "name": "stdout",
          "text": [
            "Successfully downloaded /content/relatorios/KNCR11.pdf.\n"
          ]
        }
      ]
    },
    {
      "cell_type": "markdown",
      "source": [
        "## VILG11"
      ],
      "metadata": {
        "id": "7oGmDXdCzQNL"
      }
    },
    {
      "cell_type": "code",
      "source": [
        "%%shell\n",
        "# Ubuntu no longer distributes chromium-browser outside of snap\n",
        "#\n",
        "# Proposed solution: https://askubuntu.com/questions/1204571/how-to-install-chromium-without-snap\n",
        "\n",
        "# Add debian buster\n",
        "cat > /etc/apt/sources.list.d/debian.list <<'EOF'\n",
        "deb [arch=amd64 signed-by=/usr/share/keyrings/debian-buster.gpg] http://deb.debian.org/debian buster main\n",
        "deb [arch=amd64 signed-by=/usr/share/keyrings/debian-buster-updates.gpg] http://deb.debian.org/debian buster-updates main\n",
        "deb [arch=amd64 signed-by=/usr/share/keyrings/debian-security-buster.gpg] http://deb.debian.org/debian-security buster/updates main\n",
        "EOF\n",
        "\n",
        "# Add keys\n",
        "apt-key adv --keyserver keyserver.ubuntu.com --recv-keys DCC9EFBF77E11517\n",
        "apt-key adv --keyserver keyserver.ubuntu.com --recv-keys 648ACFD622F3D138\n",
        "apt-key adv --keyserver keyserver.ubuntu.com --recv-keys 112695A0E562B32A\n",
        "\n",
        "apt-key export 77E11517 | gpg --dearmour -o /usr/share/keyrings/debian-buster.gpg\n",
        "apt-key export 22F3D138 | gpg --dearmour -o /usr/share/keyrings/debian-buster-updates.gpg\n",
        "apt-key export E562B32A | gpg --dearmour -o /usr/share/keyrings/debian-security-buster.gpg\n",
        "\n",
        "# Prefer debian repo for chromium* packages only\n",
        "# Note the double-blank lines between entries\n",
        "cat > /etc/apt/preferences.d/chromium.pref << 'EOF'\n",
        "Package: *\n",
        "Pin: release a=eoan\n",
        "Pin-Priority: 500\n",
        "\n",
        "\n",
        "Package: *\n",
        "Pin: origin \"deb.debian.org\"\n",
        "Pin-Priority: 300\n",
        "\n",
        "\n",
        "Package: chromium*\n",
        "Pin: origin \"deb.debian.org\"\n",
        "Pin-Priority: 700\n",
        "EOF\n",
        "\n",
        "# Install chromium and chromium-driver\n",
        "apt-get update\n",
        "apt-get install chromium chromium-driver\n",
        "\n",
        "# Install selenium\n",
        "pip install selenium"
      ],
      "metadata": {
        "id": "8fF--Ec4nK5G"
      },
      "execution_count": null,
      "outputs": []
    },
    {
      "cell_type": "code",
      "source": [
        "!sudo apt update; sudo apt upgrade"
      ],
      "metadata": {
        "id": "rC4kUJaepD8S"
      },
      "execution_count": null,
      "outputs": []
    },
    {
      "cell_type": "code",
      "source": [
        "from selenium import webdriver\n",
        "from selenium.webdriver.chrome.service import Service\n",
        "\n",
        "service = Service(executable_path=r'/usr/bin/chromedriver')\n",
        "options = webdriver.ChromeOptions()\n",
        "options.add_argument('--headless')\n",
        "options.add_argument('--no-sandbox')\n",
        "options.add_argument('--disable-dev-shm-usage')\n",
        "driver = webdriver.Chrome(service=service, options=options)\n",
        "# ..."
      ],
      "metadata": {
        "id": "mq_N83Ngp32R"
      },
      "execution_count": 31,
      "outputs": []
    },
    {
      "cell_type": "code",
      "source": [
        "from selenium.webdriver.common.by import By"
      ],
      "metadata": {
        "id": "j3i2FoG2qp6J"
      },
      "execution_count": 32,
      "outputs": []
    },
    {
      "cell_type": "code",
      "source": [
        "driver.get(\"https://www.vincifundoslistados.com/nossos-fundos/vinci-logistica-fii-vilg11/informacoes-aos-investidores/central-de-downloads/\" )"
      ],
      "metadata": {
        "id": "2DMmXXEWp9Cj"
      },
      "execution_count": 33,
      "outputs": []
    },
    {
      "cell_type": "code",
      "source": [
        "tabela = driver.find_element(By.ID, \"data\")"
      ],
      "metadata": {
        "id": "tgjoFH34qMmu"
      },
      "execution_count": 34,
      "outputs": []
    },
    {
      "cell_type": "code",
      "source": [
        "tabela.find_elements(By.TAG_NAME, \"td\")"
      ],
      "metadata": {
        "id": "XrT52INWrC8x"
      },
      "execution_count": null,
      "outputs": []
    },
    {
      "cell_type": "code",
      "source": [
        "# encontra a linha de relatórios gerenciais pelo XPATH\n",
        "linha = driver.find_element(By.XPATH, \"//*[@id='data']/tbody/tr[1]\")"
      ],
      "metadata": {
        "id": "zAJMTE1vrx4b"
      },
      "execution_count": 36,
      "outputs": []
    },
    {
      "cell_type": "code",
      "source": [
        "# fazer de uma forma que sempre pegue o último que tenha o link de download\n",
        "links = linha.find_elements(By.TAG_NAME, \"td\")"
      ],
      "metadata": {
        "id": "qxn0l7m9r_Ww"
      },
      "execution_count": 37,
      "outputs": []
    },
    {
      "cell_type": "code",
      "source": [
        "for link in links:\n",
        "  print(link.get_attribute(\"data-month\"))\n",
        "  print(\"--\")"
      ],
      "metadata": {
        "id": "rtLdzedxwkU1"
      },
      "execution_count": null,
      "outputs": []
    },
    {
      "cell_type": "code",
      "source": [
        "# Captura o último link da linha de relatórios gerenciais\n",
        "for link in links:\n",
        "  try:\n",
        "    print(link.find_element(By.TAG_NAME, \"a\"))\n",
        "    ultimo_link = link.find_element(By.TAG_NAME, \"a\")\n",
        "  except:\n",
        "    pass\n",
        "  print(\"--\")"
      ],
      "metadata": {
        "id": "ZEBcQQxaxO_d"
      },
      "execution_count": null,
      "outputs": []
    },
    {
      "cell_type": "code",
      "source": [
        "ultimo_link.click()"
      ],
      "metadata": {
        "id": "tqUxlIvlxnpD"
      },
      "execution_count": 40,
      "outputs": []
    },
    {
      "cell_type": "code",
      "source": [
        "!cp /content/*.pdf /content/relatorios/VILG11.pdf"
      ],
      "metadata": {
        "id": "V-uhKhFvj8R6"
      },
      "execution_count": 48,
      "outputs": []
    },
    {
      "cell_type": "code",
      "source": [
        "!rm /content/*.pdf"
      ],
      "metadata": {
        "id": "byARl2limaAl"
      },
      "execution_count": 49,
      "outputs": []
    },
    {
      "cell_type": "markdown",
      "source": [
        "## VINO11"
      ],
      "metadata": {
        "id": "F4C38yFYmksG"
      }
    },
    {
      "cell_type": "code",
      "source": [
        "driver.get(\"https://www.vincifundoslistados.com/nossos-fundos/vinci-offices-fii-vino11/informacoes-aos-investidores/central-de-downloads/\" )"
      ],
      "metadata": {
        "id": "KRrYa1bqnK9o"
      },
      "execution_count": 53,
      "outputs": []
    },
    {
      "cell_type": "code",
      "source": [
        "linha = driver.find_element(By.XPATH, \"//*[@id='data']/tbody/tr[1]\")\n",
        "links = linha.find_elements(By.TAG_NAME, \"td\")\n",
        "\n",
        "# Captura o último link da linha de relatórios gerenciais\n",
        "for link in links:\n",
        "  try:\n",
        "    ultimo_link = link.find_element(By.TAG_NAME, \"a\")\n",
        "  except:\n",
        "    pass"
      ],
      "metadata": {
        "id": "FGujgl_QnLBA"
      },
      "execution_count": 54,
      "outputs": []
    },
    {
      "cell_type": "code",
      "source": [
        "ultimo_link.click()"
      ],
      "metadata": {
        "id": "md4s8zv3oT9M"
      },
      "execution_count": null,
      "outputs": []
    },
    {
      "cell_type": "code",
      "source": [
        "!cp /content/*.pdf /content/relatorios/VINO11.pdf\n",
        "!rm /content/*.pdf"
      ],
      "metadata": {
        "id": "JYGa8DpplISE"
      },
      "execution_count": 52,
      "outputs": []
    },
    {
      "cell_type": "markdown",
      "source": [
        "## HGRU11"
      ],
      "metadata": {
        "id": "d4ufDVskne8k"
      }
    },
    {
      "cell_type": "code",
      "source": [
        "driver.get(\"https://imobiliario.cshg.com.br/central-de-downloads/relatorios-periodicos/hgru/\")"
      ],
      "metadata": {
        "id": "yK4eSYt5iALb"
      },
      "execution_count": 78,
      "outputs": []
    },
    {
      "cell_type": "code",
      "source": [
        "linha = driver.find_element(By.XPATH, \"//*[@id='data']/tbody/tr[1]\")\n",
        "links = linha.find_elements(By.TAG_NAME, \"td\")\n",
        "\n",
        "# Captura o último link da linha de relatórios gerenciais\n",
        "for link in links:\n",
        "  print(link.get_attribute('innerHTML'))\n",
        "  try:\n",
        "    ultimo_link = link.find_element(By.TAG_NAME, \"a\")\n",
        "    print(ultimo_link.get_attribute('innerHTML'))\n",
        "    print(\"-\")\n",
        "  except:\n",
        "    pass"
      ],
      "metadata": {
        "id": "aQojNXv7zYPt",
        "colab": {
          "base_uri": "https://localhost:8080/"
        },
        "outputId": "ea819e48-d06e-4a0a-a0ad-4ef9ebad26f5"
      },
      "execution_count": 79,
      "outputs": [
        {
          "output_type": "stream",
          "name": "stdout",
          "text": [
            "Relatórios ao Investidor\n",
            "<img src=\"/wp-content/themes/mziq_credit_suisse/img/icons/icon-download.png\" alt=\"Download\" class=\"open-modal\"><div class=\"modal-file\"><div class=\"box-modal modal-inativo\"><b class=\"close-modal\">x</b><h3 class=\"title-modal\">Arquivos</h3><a target=\"_blank\" href=\"https://api.mziq.com/mzfilemanager/v2/d/3563a012-0930-4bfc-815b-3356ca7c3470/03083db4-e327-23da-3e16-afd43da72f24?origin=1\"> Relatório Gerencial – Janeiro de 2023</a></div></div>\n",
            " Relatório Gerencial – Janeiro de 2023\n",
            "-\n",
            "<img src=\"/wp-content/themes/mziq_credit_suisse/img/icons/icon-download.png\" alt=\"Download\" class=\"open-modal\"><div class=\"modal-file\"><div class=\"box-modal modal-inativo\"><b class=\"close-modal\">x</b><h3 class=\"title-modal\">Arquivos</h3><a target=\"_blank\" href=\"https://api.mziq.com/mzfilemanager/v2/d/3563a012-0930-4bfc-815b-3356ca7c3470/2484618a-2b41-52e7-c5de-4980a4720f5b?origin=1\"> Relatório Gerencial – Fevereiro de 2023</a></div></div>\n",
            " Relatório Gerencial – Fevereiro de 2023\n",
            "-\n",
            "<img src=\"/wp-content/themes/mziq_credit_suisse/img/icons/icon-download.png\" alt=\"Download\" class=\"open-modal\"><div class=\"modal-file\"><div class=\"box-modal modal-inativo\"><b class=\"close-modal\">x</b><h3 class=\"title-modal\">Arquivos</h3><a target=\"_blank\" href=\"https://api.mziq.com/mzfilemanager/v2/d/3563a012-0930-4bfc-815b-3356ca7c3470/e4809fc5-a744-e17e-ed17-816766d1d419?origin=1\"> Relatório Gerencial – Março de 2023</a></div></div>\n",
            " Relatório Gerencial – Março de 2023\n",
            "-\n",
            "<img src=\"/wp-content/themes/mziq_credit_suisse/img/icons/icon-download.png\" alt=\"Download\" class=\"open-modal\"><div class=\"modal-file\"><div class=\"box-modal modal-inativo\"><b class=\"close-modal\">x</b><h3 class=\"title-modal\">Arquivos</h3><a target=\"_blank\" href=\"https://api.mziq.com/mzfilemanager/v2/d/3563a012-0930-4bfc-815b-3356ca7c3470/61c2cc6d-7e41-1bae-d703-341110e6d7b7?origin=1\"> Relatório Gerencial – Abril de 2023</a></div></div>\n",
            " Relatório Gerencial – Abril de 2023\n",
            "-\n",
            "<img src=\"/wp-content/themes/mziq_credit_suisse/img/icons/icon-download.png\" alt=\"Download\" class=\"open-modal\"><div class=\"modal-file\"><div class=\"box-modal modal-inativo\"><b class=\"close-modal\">x</b><h3 class=\"title-modal\">Arquivos</h3><a target=\"_blank\" href=\"https://api.mziq.com/mzfilemanager/v2/d/3563a012-0930-4bfc-815b-3356ca7c3470/a955d9ba-f126-784e-a68d-dd0d448d8914?origin=1\"> Relatório Gerencial - Maio de 2023</a></div></div>\n",
            " Relatório Gerencial - Maio de 2023\n",
            "-\n",
            "<img src=\"/wp-content/themes/mziq_credit_suisse/img/icons/icon-download.png\" alt=\"Download\" class=\"open-modal\"><div class=\"modal-file\"><div class=\"box-modal modal-inativo\"><b class=\"close-modal\">x</b><h3 class=\"title-modal\"></h3></div></div>\n",
            "<img src=\"/wp-content/themes/mziq_credit_suisse/img/icons/icon-download.png\" alt=\"Download\" class=\"open-modal\"><div class=\"modal-file\"><div class=\"box-modal modal-inativo\"><b class=\"close-modal\">x</b><h3 class=\"title-modal\"></h3></div></div>\n",
            "<img src=\"/wp-content/themes/mziq_credit_suisse/img/icons/icon-download.png\" alt=\"Download\" class=\"open-modal\"><div class=\"modal-file\"><div class=\"box-modal modal-inativo\"><b class=\"close-modal\">x</b><h3 class=\"title-modal\"></h3></div></div>\n",
            "<img src=\"/wp-content/themes/mziq_credit_suisse/img/icons/icon-download.png\" alt=\"Download\" class=\"open-modal\"><div class=\"modal-file\"><div class=\"box-modal modal-inativo\"><b class=\"close-modal\">x</b><h3 class=\"title-modal\"></h3></div></div>\n",
            "<img src=\"/wp-content/themes/mziq_credit_suisse/img/icons/icon-download.png\" alt=\"Download\" class=\"open-modal\"><div class=\"modal-file\"><div class=\"box-modal modal-inativo\"><b class=\"close-modal\">x</b><h3 class=\"title-modal\"></h3></div></div>\n",
            "<img src=\"/wp-content/themes/mziq_credit_suisse/img/icons/icon-download.png\" alt=\"Download\" class=\"open-modal\"><div class=\"modal-file\"><div class=\"box-modal modal-inativo\"><b class=\"close-modal\">x</b><h3 class=\"title-modal\"></h3></div></div>\n",
            "<img src=\"/wp-content/themes/mziq_credit_suisse/img/icons/icon-download.png\" alt=\"Download\" class=\"open-modal\"><div class=\"modal-file\"><div class=\"box-modal modal-inativo\"><b class=\"close-modal\">x</b><h3 class=\"title-modal\"></h3></div></div>\n"
          ]
        }
      ]
    },
    {
      "cell_type": "code",
      "source": [
        "ultimo_link.get_attribute(\"outerHTML\")"
      ],
      "metadata": {
        "colab": {
          "base_uri": "https://localhost:8080/",
          "height": 53
        },
        "id": "wgz8jOyjpYQn",
        "outputId": "2bc9e051-98dc-494b-bdb4-5dc46fe35101"
      },
      "execution_count": 82,
      "outputs": [
        {
          "output_type": "execute_result",
          "data": {
            "text/plain": [
              "'<a target=\"_blank\" href=\"https://api.mziq.com/mzfilemanager/v2/d/3563a012-0930-4bfc-815b-3356ca7c3470/a955d9ba-f126-784e-a68d-dd0d448d8914?origin=1\"> Relatório Gerencial - Maio de 2023</a>'"
            ],
            "application/vnd.google.colaboratory.intrinsic+json": {
              "type": "string"
            }
          },
          "metadata": {},
          "execution_count": 82
        }
      ]
    },
    {
      "cell_type": "code",
      "source": [
        "link_baixar = ultimo_link.get_attribute(\"href\")"
      ],
      "metadata": {
        "id": "Pf10bjnorrqN"
      },
      "execution_count": 85,
      "outputs": []
    },
    {
      "cell_type": "code",
      "source": [
        "baixarPDFporURL(link_baixar, \"HGRU.pdf\")"
      ],
      "metadata": {
        "id": "XS27n_9JzYTu",
        "colab": {
          "base_uri": "https://localhost:8080/"
        },
        "outputId": "ee40daed-e00e-465c-a4b2-33cc777c7eb5"
      },
      "execution_count": 87,
      "outputs": [
        {
          "output_type": "stream",
          "name": "stdout",
          "text": [
            "Successfully downloaded /content/relatorios/HGRU.pdf.\n"
          ]
        }
      ]
    },
    {
      "cell_type": "code",
      "source": [],
      "metadata": {
        "id": "KRlfsA5pzYVl"
      },
      "execution_count": 86,
      "outputs": []
    },
    {
      "cell_type": "code",
      "source": [],
      "metadata": {
        "id": "HNvmr1JlzYXm"
      },
      "execution_count": 86,
      "outputs": []
    },
    {
      "cell_type": "code",
      "source": [],
      "metadata": {
        "id": "_xpNI1j_zYZs"
      },
      "execution_count": 86,
      "outputs": []
    },
    {
      "cell_type": "code",
      "source": [
        "driver.quit()"
      ],
      "metadata": {
        "id": "5RjycLbxp7hy"
      },
      "execution_count": 86,
      "outputs": []
    },
    {
      "cell_type": "markdown",
      "source": [
        "## Remove os arquivos do Drive"
      ],
      "metadata": {
        "id": "uTdvG7CHsSyE"
      }
    },
    {
      "cell_type": "code",
      "source": [
        "!rm /content/drive/MyDrive/Financeiro/Investimentos/Relatorios\\ Gerenciais\\ para\\ Ler/*"
      ],
      "metadata": {
        "id": "l_0TW04OsUql"
      },
      "execution_count": null,
      "outputs": []
    },
    {
      "cell_type": "markdown",
      "source": [
        "## Move .pdf pro meu Drive"
      ],
      "metadata": {
        "id": "Vpp8zelpls0f"
      }
    },
    {
      "cell_type": "code",
      "source": [
        "!cp /content/relatorios/*.pdf /content/drive/MyDrive/Financeiro/Investimentos/Relatorios\\ Gerenciais\\ para\\ Ler"
      ],
      "metadata": {
        "id": "HACnucP7lvGP"
      },
      "execution_count": null,
      "outputs": []
    }
  ]
}