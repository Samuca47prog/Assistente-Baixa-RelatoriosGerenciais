{
  "nbformat": 4,
  "nbformat_minor": 0,
  "metadata": {
    "colab": {
      "provenance": []
    },
    "kernelspec": {
      "name": "python3",
      "display_name": "Python 3"
    },
    "language_info": {
      "name": "python"
    }
  },
  "cells": [
    {
      "cell_type": "markdown",
      "source": [
        "# Setup"
      ],
      "metadata": {
        "id": "DqkZg5OAmMU1"
      }
    },
    {
      "cell_type": "markdown",
      "source": [
        "Monta o Drive"
      ],
      "metadata": {
        "id": "mq54bVw4l73A"
      }
    },
    {
      "cell_type": "code",
      "source": [
        "from google.colab import drive\n",
        "drive.mount(\"/content/drive\")"
      ],
      "metadata": {
        "id": "3ta9crP6l-HO",
        "colab": {
          "base_uri": "https://localhost:8080/"
        },
        "outputId": "389a9eb7-9af7-4253-b1e7-2c4729988a7b"
      },
      "execution_count": 1,
      "outputs": [
        {
          "output_type": "stream",
          "name": "stdout",
          "text": [
            "Drive already mounted at /content/drive; to attempt to forcibly remount, call drive.mount(\"/content/drive\", force_remount=True).\n"
          ]
        }
      ]
    },
    {
      "cell_type": "markdown",
      "source": [
        "## Variaveis Globais"
      ],
      "metadata": {
        "id": "EgCu3OkErFGW"
      }
    },
    {
      "cell_type": "code",
      "source": [
        "caminho_drive_relatorios = \"/content/drive/MyDrive/Financeiro/Investimentos/Relatorios\\ Gerenciais\\ para\\ Ler\""
      ],
      "metadata": {
        "id": "3PSovyCLmO1T"
      },
      "execution_count": 2,
      "outputs": []
    },
    {
      "cell_type": "markdown",
      "source": [
        "## Bibliotecas"
      ],
      "metadata": {
        "id": "N5AjlznGq-7t"
      }
    },
    {
      "cell_type": "code",
      "source": [
        "from bs4 import BeautifulSoup\n",
        "import requests\n",
        "import os\n",
        "import time"
      ],
      "metadata": {
        "id": "KYdaziiujr7a"
      },
      "execution_count": 3,
      "outputs": []
    },
    {
      "cell_type": "markdown",
      "source": [
        "## Selenium Setup"
      ],
      "metadata": {
        "id": "EjUVGiNUsXjK"
      }
    },
    {
      "cell_type": "code",
      "source": [
        "%%capture\n",
        "%%shell\n",
        "\n",
        "# Ubuntu no longer distributes chromium-browser outside of snap\n",
        "#\n",
        "# Proposed solution: https://askubuntu.com/questions/1204571/how-to-install-chromium-without-snap\n",
        "\n",
        "# Add debian buster\n",
        "cat > /etc/apt/sources.list.d/debian.list <<'EOF'\n",
        "deb [arch=amd64 signed-by=/usr/share/keyrings/debian-buster.gpg] http://deb.debian.org/debian buster main\n",
        "deb [arch=amd64 signed-by=/usr/share/keyrings/debian-buster-updates.gpg] http://deb.debian.org/debian buster-updates main\n",
        "deb [arch=amd64 signed-by=/usr/share/keyrings/debian-security-buster.gpg] http://deb.debian.org/debian-security buster/updates main\n",
        "EOF\n",
        "\n",
        "# Add keys\n",
        "apt-key adv --keyserver keyserver.ubuntu.com --recv-keys DCC9EFBF77E11517\n",
        "apt-key adv --keyserver keyserver.ubuntu.com --recv-keys 648ACFD622F3D138\n",
        "apt-key adv --keyserver keyserver.ubuntu.com --recv-keys 112695A0E562B32A\n",
        "\n",
        "apt-key export 77E11517 | gpg --dearmour -o /usr/share/keyrings/debian-buster.gpg\n",
        "apt-key export 22F3D138 | gpg --dearmour -o /usr/share/keyrings/debian-buster-updates.gpg\n",
        "apt-key export E562B32A | gpg --dearmour -o /usr/share/keyrings/debian-security-buster.gpg\n",
        "\n",
        "# Prefer debian repo for chromium* packages only\n",
        "# Note the double-blank lines between entries\n",
        "cat > /etc/apt/preferences.d/chromium.pref << 'EOF'\n",
        "Package: *\n",
        "Pin: release a=eoan\n",
        "Pin-Priority: 500\n",
        "\n",
        "\n",
        "Package: *\n",
        "Pin: origin \"deb.debian.org\"\n",
        "Pin-Priority: 300\n",
        "\n",
        "\n",
        "Package: chromium*\n",
        "Pin: origin \"deb.debian.org\"\n",
        "Pin-Priority: 700\n",
        "EOF\n",
        "\n",
        "# Install chromium and chromium-driver\n",
        "apt-get update\n",
        "apt-get install chromium chromium-driver\n",
        "\n",
        "# Install selenium\n",
        "pip install selenium\n",
        "\n",
        "sudo apt update; sudo apt upgrade"
      ],
      "metadata": {
        "id": "xZBeFj5isgGz"
      },
      "execution_count": 4,
      "outputs": []
    },
    {
      "cell_type": "code",
      "source": [
        "from selenium import webdriver\n",
        "from selenium.webdriver.chrome.service import Service\n",
        "from selenium.webdriver.common.by import By\n",
        "\n",
        "service = Service(executable_path=r'/usr/bin/chromedriver')\n",
        "options = webdriver.ChromeOptions()\n",
        "options.add_argument('--headless')\n",
        "options.add_argument('--no-sandbox')\n",
        "options.add_argument('--disable-dev-shm-usage')\n",
        "driver = webdriver.Chrome(service=service, options=options)\n",
        "# ..."
      ],
      "metadata": {
        "id": "BH-LGNxCsq3y"
      },
      "execution_count": 5,
      "outputs": []
    },
    {
      "cell_type": "markdown",
      "source": [
        "### Criando a pasta onde os arquivos serão armazenados"
      ],
      "metadata": {
        "id": "z1WOu3apoYSf"
      }
    },
    {
      "cell_type": "code",
      "source": [
        "colabPath_relatorios = \"/content/relatorios/\"\n",
        "\n",
        "if not os.path.exists(colabPath_relatorios):\n",
        "    os.makedirs(colabPath_relatorios)"
      ],
      "metadata": {
        "id": "6dJ1tAdwodYJ"
      },
      "execution_count": 6,
      "outputs": []
    },
    {
      "cell_type": "markdown",
      "source": [
        "## Métodos"
      ],
      "metadata": {
        "id": "YgbE7B4HrjAP"
      }
    },
    {
      "cell_type": "code",
      "execution_count": 7,
      "metadata": {
        "id": "SjGz1PhhiCw0"
      },
      "outputs": [],
      "source": [
        "def capturaHTMLdaPagina(url):\n",
        "    html_content = requests.get(url).text\n",
        "    soup = BeautifulSoup(html_content, \"html.parser\")\n",
        "\n",
        "    return soup\n",
        "\n",
        "\n",
        "def geraNomeDoPDF(nome_tarefa):\n",
        "    file_name = nome_tarefa.replace(\"#\", \"\") + \".pdf\"\n",
        "\n",
        "    return file_name\n",
        "\n",
        "\n",
        "def baixarPDFporURL(pdf_url, file_name):\n",
        "    file_name = colabPath_relatorios + file_name\n",
        "    response = requests.get(pdf_url)\n",
        "\n",
        "    if response.status_code == 200:\n",
        "        with open(file_name, 'wb') as f:\n",
        "            f.write(response.content)\n",
        "        print(f'Successfully downloaded {file_name}.')\n",
        "    else:\n",
        "        print('Failed to download the PDF.')"
      ]
    },
    {
      "cell_type": "markdown",
      "source": [
        "# XPML11"
      ],
      "metadata": {
        "id": "898Vs-1yjZ7T"
      }
    },
    {
      "cell_type": "code",
      "source": [
        "soup = capturaHTMLdaPagina(\"https://xpmalls.riweb.com.br/list.aspx?idCanal=kvNzmBoSOV6K7Q9BieMORw==\")\n",
        "linkPrimeiroDownloadLink = soup.find(\"a\", {\"id\":\"ContentInternal_ContentPlaceHolderConteudo_rptListaCanal_linkListaTituloChamada_0\"})\n",
        "url_parcial_relatorio = linkPrimeiroDownloadLink[\"href\"]\n",
        "link_download_relatorio = \"https://xpmalls.riweb.com.br/\" + url_parcial_relatorio"
      ],
      "metadata": {
        "id": "T4QZZGN-roUR"
      },
      "execution_count": 8,
      "outputs": []
    },
    {
      "cell_type": "code",
      "source": [
        "baixarPDFporURL(link_download_relatorio, \"XPML11.pdf\")\n",
        "\n",
        "time.sleep(10)"
      ],
      "metadata": {
        "colab": {
          "base_uri": "https://localhost:8080/"
        },
        "id": "2KbAxUqRlG9P",
        "outputId": "0712fee9-bfb6-4fb5-8ab0-b4c8455f6a34"
      },
      "execution_count": 9,
      "outputs": [
        {
          "output_type": "stream",
          "name": "stdout",
          "text": [
            "Successfully downloaded /content/relatorios/XPML11.pdf.\n"
          ]
        }
      ]
    },
    {
      "cell_type": "markdown",
      "source": [
        "# MXRF11"
      ],
      "metadata": {
        "id": "ETzeEii5pE1X"
      }
    },
    {
      "cell_type": "code",
      "source": [
        "soup = capturaHTMLdaPagina(\"https://xpmaxirenda.riweb.com.br/list.aspx?idCanal=dFDM2o4LcyHK171fQJvzkQ==\")\n",
        "linkPrimeiroDownloadLink = soup.find(\"a\", {\"id\":\"ContentInternal_ContentPlaceHolderConteudo_rptListaCanal_linkListaTituloChamada_0\"})\n",
        "url_parcial_relatorio = linkPrimeiroDownloadLink[\"href\"]\n",
        "link_download_relatorio = \"https://xpmaxirenda.riweb.com.br/\" + url_parcial_relatorio"
      ],
      "metadata": {
        "id": "j5SNtMcYpCmv"
      },
      "execution_count": 10,
      "outputs": []
    },
    {
      "cell_type": "code",
      "source": [
        "baixarPDFporURL(link_download_relatorio, \"MXRF11.pdf\")\n",
        "\n",
        "time.sleep(10)"
      ],
      "metadata": {
        "colab": {
          "base_uri": "https://localhost:8080/"
        },
        "id": "iP1PEvwMpCqp",
        "outputId": "d7adfb30-aa02-4fef-e997-e530b2bfa3e4"
      },
      "execution_count": 11,
      "outputs": [
        {
          "output_type": "stream",
          "name": "stdout",
          "text": [
            "Successfully downloaded /content/relatorios/MXRF11.pdf.\n"
          ]
        }
      ]
    },
    {
      "cell_type": "markdown",
      "source": [
        "# KNCR11"
      ],
      "metadata": {
        "id": "JK6FMxOxzCXc"
      }
    },
    {
      "cell_type": "code",
      "source": [
        "soup = capturaHTMLdaPagina(\"https://www.kinea.com.br/fundos/fundo-imobiliario-kinea-rendimentos-kncr11/\")\n",
        "\n",
        "tagsA = soup.findAll(\"a\")\n",
        "\n",
        "for a in tagsA:\n",
        "  if a.text == \"Carta do Gestor\":\n",
        "    link_download_relatorio = a[\"href\"]\n",
        "    break"
      ],
      "metadata": {
        "id": "zISaRuiFpCui"
      },
      "execution_count": 12,
      "outputs": []
    },
    {
      "cell_type": "code",
      "source": [
        "baixarPDFporURL(link_download_relatorio, \"KNCR11.pdf\")\n",
        "\n",
        "time.sleep(10)"
      ],
      "metadata": {
        "id": "WS5EnDNOpCwo",
        "colab": {
          "base_uri": "https://localhost:8080/"
        },
        "outputId": "d1ea8f2e-b864-434a-bc84-3e16f936a315"
      },
      "execution_count": 13,
      "outputs": [
        {
          "output_type": "stream",
          "name": "stdout",
          "text": [
            "Successfully downloaded /content/relatorios/KNCR11.pdf.\n"
          ]
        }
      ]
    },
    {
      "cell_type": "markdown",
      "source": [
        "# VINO11"
      ],
      "metadata": {
        "id": "C21jQUvstK2g"
      }
    },
    {
      "cell_type": "code",
      "source": [
        "driver.get(\"https://www.vincifundoslistados.com/nossos-fundos/vinci-offices-fii-vino11/informacoes-aos-investidores/central-de-downloads/\" )"
      ],
      "metadata": {
        "id": "oMvFHJ6etQD2"
      },
      "execution_count": 14,
      "outputs": []
    },
    {
      "cell_type": "code",
      "source": [
        "linha = driver.find_element(By.XPATH, \"//*[@id='data']/tbody/tr[1]\")\n",
        "links = linha.find_elements(By.TAG_NAME, \"td\")\n",
        "\n",
        "# Captura o último link da linha de relatórios gerenciais\n",
        "for link in links:\n",
        "  try:\n",
        "    ultimo_link = link.find_element(By.TAG_NAME, \"a\")\n",
        "  except:\n",
        "    pass"
      ],
      "metadata": {
        "id": "KQR1YEfKtRQ-"
      },
      "execution_count": 15,
      "outputs": []
    },
    {
      "cell_type": "code",
      "source": [
        "ultimo_link.click()\n",
        "\n",
        "time.sleep(10)"
      ],
      "metadata": {
        "id": "iBvhm2kPtSX2"
      },
      "execution_count": 16,
      "outputs": []
    },
    {
      "cell_type": "code",
      "source": [
        "!cp /content/*.pdf /content/relatorios/VINO11.pdf\n",
        "!rm /content/*.pdf"
      ],
      "metadata": {
        "id": "pbn1iSwgtTht"
      },
      "execution_count": 17,
      "outputs": []
    },
    {
      "cell_type": "markdown",
      "source": [
        "# VILG11"
      ],
      "metadata": {
        "id": "Z-7IK9MltG2a"
      }
    },
    {
      "cell_type": "code",
      "source": [
        "driver.get(\"https://www.vincifundoslistados.com/nossos-fundos/vinci-logistica-fii-vilg11/informacoes-aos-investidores/central-de-downloads/\" )"
      ],
      "metadata": {
        "id": "HgjV3aW7tWSK"
      },
      "execution_count": 18,
      "outputs": []
    },
    {
      "cell_type": "code",
      "source": [
        "linha = driver.find_element(By.XPATH, \"//*[@id='data']/tbody/tr[1]\")\n",
        "links = linha.find_elements(By.TAG_NAME, \"td\")\n",
        "\n",
        "# Captura o último link da linha de relatórios gerenciais\n",
        "for link in links:\n",
        "  try:\n",
        "    ultimo_link = link.find_element(By.TAG_NAME, \"a\")\n",
        "  except:\n",
        "    pass"
      ],
      "metadata": {
        "id": "oxDHyW7ptc6H"
      },
      "execution_count": 19,
      "outputs": []
    },
    {
      "cell_type": "code",
      "source": [
        "ultimo_link.click()\n",
        "\n",
        "time.sleep(10)"
      ],
      "metadata": {
        "id": "0hmjXs7etdzv"
      },
      "execution_count": 20,
      "outputs": []
    },
    {
      "cell_type": "code",
      "source": [
        "!cp /content/*.pdf /content/relatorios/VILG11.pdf\n",
        "!rm /content/*.pdf"
      ],
      "metadata": {
        "id": "a9fgjnhStffo"
      },
      "execution_count": 21,
      "outputs": []
    },
    {
      "cell_type": "markdown",
      "source": [
        "# HRGU11"
      ],
      "metadata": {
        "id": "FiLPOluct07n"
      }
    },
    {
      "cell_type": "code",
      "source": [
        "driver.get(\"https://imobiliario.cshg.com.br/central-de-downloads/relatorios-periodicos/hgru/\")"
      ],
      "metadata": {
        "id": "iq2XgoIppCyi"
      },
      "execution_count": 22,
      "outputs": []
    },
    {
      "cell_type": "code",
      "source": [
        "linha = driver.find_element(By.XPATH, \"//*[@id='data']/tbody/tr[1]\")\n",
        "links = linha.find_elements(By.TAG_NAME, \"td\")\n",
        "\n",
        "# Captura o último link da linha de relatórios gerenciais\n",
        "for link in links:\n",
        "  try:\n",
        "    ultimo_link = link.find_element(By.TAG_NAME, \"a\")\n",
        "  except:\n",
        "    pass\n",
        "\n",
        "link_baixar = ultimo_link.get_attribute(\"href\")"
      ],
      "metadata": {
        "id": "JCdLqQnnsztj"
      },
      "execution_count": 23,
      "outputs": []
    },
    {
      "cell_type": "code",
      "source": [
        "baixarPDFporURL(link_baixar, \"HGRU.pdf\")\n",
        "\n",
        "time.sleep(10)"
      ],
      "metadata": {
        "colab": {
          "base_uri": "https://localhost:8080/"
        },
        "id": "cT5WyuRns3T7",
        "outputId": "a84c6f8a-be46-4eea-ba76-e0415ea6c43e"
      },
      "execution_count": 24,
      "outputs": [
        {
          "output_type": "stream",
          "name": "stdout",
          "text": [
            "Successfully downloaded /content/relatorios/HGRU.pdf.\n"
          ]
        }
      ]
    },
    {
      "cell_type": "markdown",
      "source": [
        "Mata o driver"
      ],
      "metadata": {
        "id": "RxnM0ZWptEj6"
      }
    },
    {
      "cell_type": "code",
      "source": [
        "driver.quit()"
      ],
      "metadata": {
        "id": "0i6Hvl5Ls5Ed"
      },
      "execution_count": 25,
      "outputs": []
    },
    {
      "cell_type": "markdown",
      "source": [
        "# Google Drive"
      ],
      "metadata": {
        "id": "lQJl5Df0s8rG"
      }
    },
    {
      "cell_type": "markdown",
      "source": [
        "## Remove os arquivos do Drive"
      ],
      "metadata": {
        "id": "fgXaWxjjs_yh"
      }
    },
    {
      "cell_type": "code",
      "source": [
        "!rm /content/drive/MyDrive/Financeiro/Investimentos/Relatorios\\ Gerenciais\\ para\\ Ler/*"
      ],
      "metadata": {
        "colab": {
          "base_uri": "https://localhost:8080/"
        },
        "id": "p5lkxRn4s8Hx",
        "outputId": "ae446c4f-b1ad-48ef-a808-7f7b06cf1d6a"
      },
      "execution_count": 26,
      "outputs": [
        {
          "output_type": "stream",
          "name": "stdout",
          "text": [
            "rm: cannot remove '/content/drive/MyDrive/Financeiro/Investimentos/Relatorios Gerenciais para Ler/*': No such file or directory\n"
          ]
        }
      ]
    },
    {
      "cell_type": "markdown",
      "source": [
        "## Move .pdf pro meu Drive"
      ],
      "metadata": {
        "id": "Vpp8zelpls0f"
      }
    },
    {
      "cell_type": "code",
      "source": [
        "!cp /content/relatorios/*.pdf /content/drive/MyDrive/Financeiro/Investimentos/Relatorios\\ Gerenciais\\ para\\ Ler"
      ],
      "metadata": {
        "id": "HACnucP7lvGP"
      },
      "execution_count": 27,
      "outputs": []
    }
  ]
}